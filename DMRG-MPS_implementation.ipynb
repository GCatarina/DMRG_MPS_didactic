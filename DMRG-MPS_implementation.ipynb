{
 "cells": [
  {
   "cell_type": "code",
   "execution_count": 1,
   "metadata": {},
   "outputs": [],
   "source": [
    "# packages\n",
    "import numpy as np #math operations\n",
    "from scipy.sparse.linalg import eigsh #Lanczos diagonalization for hermitian matrices"
   ]
  },
  {
   "cell_type": "markdown",
   "metadata": {},
   "source": [
    "# Canonical forms\n",
    "\n",
    "$\\quad$ Before going into the implementation of DMRG, we first build a function that transforms an arbitrary MPS into a convenient canonical form.\n",
    "\n",
    "$\\quad$ We start by creating a random MPS with $N$ sites, physical dimension $d$ (for simplicity, equal in all sites) and bond dimension $D$ (for simplicity, equal in all bonds, except the outer bonds, which are set trivial), as depicted below.\n",
    "\n",
    "<img src=\"MPS.jpeg\" width=500 />"
   ]
  },
  {
   "cell_type": "code",
   "execution_count": 2,
   "metadata": {},
   "outputs": [],
   "source": [
    "# parameters\n",
    "N = 10\n",
    "d = 3\n",
    "D = 20\n",
    "\n",
    "# random MPS\n",
    "'''\n",
    "    Order of legs: left-bottom-right. \n",
    "    Note: this is the conventional order used for MPSs in the code.\n",
    "'''\n",
    "Mrand = []\n",
    "Mrand.append(np.random.rand(1,d,D))\n",
    "for l in range(1,N-1):\n",
    "    Mrand.append(np.random.rand(D,d,D))\n",
    "Mrand.append(np.random.rand(D,d,1))"
   ]
  },
  {
   "cell_type": "markdown",
   "metadata": {},
   "source": [
    "$\\quad$ We now define a function that takes an MPS as input and transforms it into left canonical form, normalizing it.\n",
    "The output of this function is an equivalent description of the input MPS (apart from the normalization) where all tensors are left normalized.\n",
    "This is achieved using SVD, following the procedure depicted below.\n",
    "\n",
    "<img src=\"LeftCanonical_procedure.jpeg\" width=1000 />"
   ]
  },
  {
   "cell_type": "code",
   "execution_count": 3,
   "metadata": {},
   "outputs": [],
   "source": [
    "'''\n",
    "    Function that takes an MPS M as input (order of legs: left-bottom-right) and gives a copy of it that is\n",
    "        transformed into left canonical form and normalized.\n",
    "'''\n",
    "def LeftCanonical(M):\n",
    "    Mcopy = M.copy()\n",
    "    \n",
    "    N = len(Mcopy) #nr of sites\n",
    "    \n",
    "    for l in range(N):\n",
    "        Taux = Mcopy[l]\n",
    "        Taux = np.reshape(Taux,(np.shape(Taux)[0]*np.shape(Taux)[1],np.shape(Taux)[2]))\n",
    "        U,S,Vdag = np.linalg.svd(Taux,full_matrices=False)\n",
    "        '''\n",
    "            Note: full_matrices=False leads to a trivial truncation of the matrices (thin SVD).\n",
    "        '''\n",
    "        \n",
    "        Mcopy[l] = np.reshape(U,(np.shape(Mcopy[l])[0],np.shape(Mcopy[l])[1],np.shape(U)[1]))\n",
    "        SVdag = np.matmul(np.diag(S),Vdag)\n",
    "        \n",
    "        if l < N-1:         \n",
    "            Mcopy[l+1] = np.einsum('ij,jkl',SVdag,Mcopy[l+1])\n",
    "        else:\n",
    "            '''\n",
    "                Note: in the last site (l=N-1), S*Vdag is a number that determines the normalization of the MPS. \n",
    "                    We discard this number, which corresponds to normalizing the MPS.\n",
    "            '''\n",
    "            \n",
    "    return Mcopy"
   ]
  },
  {
   "cell_type": "markdown",
   "metadata": {},
   "source": [
    "$\\quad$ Let us now test the use of the previous function.\n",
    "For that matter, we will check if, after applying it, all tensors become left normalized, i.e.,\n",
    "\n",
    "<img src=\"left_normalization.jpeg\" width=400 />"
   ]
  },
  {
   "cell_type": "code",
   "execution_count": 4,
   "metadata": {},
   "outputs": [
    {
     "name": "stdout",
     "output_type": "stream",
     "text": [
      "l = 0 : max(|M[l]^† · M[l] - I|) = 4.440892098500626e-16\n",
      "l = 1 : max(|M[l]^† · M[l] - I|) = 1.5543122344752192e-15\n",
      "l = 2 : max(|M[l]^† · M[l] - I|) = 1.1102230246251565e-15\n",
      "l = 3 : max(|M[l]^† · M[l] - I|) = 1.9984014443252818e-15\n",
      "l = 4 : max(|M[l]^† · M[l] - I|) = 2.220446049250313e-15\n",
      "l = 5 : max(|M[l]^† · M[l] - I|) = 1.5543122344752192e-15\n",
      "l = 6 : max(|M[l]^† · M[l] - I|) = 1.4432899320127035e-15\n",
      "l = 7 : max(|M[l]^† · M[l] - I|) = 1.3322676295501878e-15\n",
      "l = 8 : max(|M[l]^† · M[l] - I|) = 1.9984014443252818e-15\n",
      "l = 9 : max(|M[l]^† · M[l] - I|) = 2.220446049250313e-16\n"
     ]
    }
   ],
   "source": [
    "Mleft = LeftCanonical(Mrand)\n",
    "\n",
    "for l in range(N):\n",
    "    Mdag = Mleft[l].conj().T #right-top-left\n",
    "    '''\n",
    "        Note: as a consequence of the conventional leg order chosen for the MPSs, the corresponding hermitian\n",
    "            conjugate versions are ordered as right-top-left.\n",
    "    ''' \n",
    "    MdagM = np.einsum('ijk,kjl',Mdag,Mleft[l]) #bottom-top\n",
    "    I = np.eye(np.shape(Mleft[l])[2]) #(leg order is indiferent)\n",
    "\n",
    "    print('l =', l, ': max(|M[l]^† · M[l] - I|) =', np.max(abs(MdagM-I)))"
   ]
  },
  {
   "cell_type": "markdown",
   "metadata": {},
   "source": [
    "$\\quad$ Analogously, we define and test a function that takes an MPS as input and brings it into right canonical form, normalizing it."
   ]
  },
  {
   "cell_type": "code",
   "execution_count": 5,
   "metadata": {},
   "outputs": [],
   "source": [
    "'''\n",
    "    Function that takes an MPS M as input (order of legs: left-bottom-right) and gives a copy of it that is\n",
    "        transformed into right canonical form and normalized.\n",
    "'''\n",
    "def RightCanonical(M):\n",
    "    Mcopy = M.copy()\n",
    "    \n",
    "    N = len(M) #nr of sites\n",
    "    \n",
    "    for l in range(N-1,-1,-1):\n",
    "        Taux = Mcopy[l]\n",
    "        Taux = np.reshape(Taux,(np.shape(Taux)[0],np.shape(Taux)[1]*np.shape(Taux)[2]))\n",
    "        U,S,Vdag = np.linalg.svd(Taux,full_matrices=False)\n",
    "        \n",
    "        Mcopy[l] = np.reshape(Vdag,(np.shape(Vdag)[0],np.shape(Mcopy[l])[1],np.shape(Mcopy[l])[2]))\n",
    "        US = np.matmul(U,np.diag(S))\n",
    "        \n",
    "        if l > 0:         \n",
    "            Mcopy[l-1] = np.einsum('ijk,kl',Mcopy[l-1],US)\n",
    "        else:\n",
    "            '''\n",
    "                Note: in the first site (l=0), U*S is a number that determines the normalization of the MPS. We \n",
    "                    discard this number, which corresponds to normalizing the MPS.\n",
    "            '''\n",
    "            \n",
    "    return Mcopy"
   ]
  },
  {
   "cell_type": "code",
   "execution_count": 6,
   "metadata": {},
   "outputs": [
    {
     "name": "stdout",
     "output_type": "stream",
     "text": [
      "l = 0 : max(|M[l] · M[l]^† - I|) = 3.3306690738754696e-16\n",
      "l = 1 : max(|M[l] · M[l]^† - I|) = 2.220446049250313e-15\n",
      "l = 2 : max(|M[l] · M[l]^† - I|) = 1.3322676295501878e-15\n",
      "l = 3 : max(|M[l] · M[l]^† - I|) = 1.4432899320127035e-15\n",
      "l = 4 : max(|M[l] · M[l]^† - I|) = 1.3322676295501878e-15\n",
      "l = 5 : max(|M[l] · M[l]^† - I|) = 1.3322676295501878e-15\n",
      "l = 6 : max(|M[l] · M[l]^† - I|) = 1.6653345369377348e-15\n",
      "l = 7 : max(|M[l] · M[l]^† - I|) = 1.9984014443252818e-15\n",
      "l = 8 : max(|M[l] · M[l]^† - I|) = 6.661338147750939e-16\n",
      "l = 9 : max(|M[l] · M[l]^† - I|) = 2.220446049250313e-16\n"
     ]
    }
   ],
   "source": [
    "Mright = RightCanonical(Mrand)\n",
    "\n",
    "for l in range(N):\n",
    "    Mdag = Mright[l].conj().T #right-top-left\n",
    "    MMdag = np.einsum('ijk,kjl',Mright[l],Mdag) #top-bottom\n",
    "    I = np.eye(np.shape(Mright[l])[0]) #(leg order is indiferent)\n",
    "\n",
    "    print('l =', l, ': max(|M[l] · M[l]^† - I|) =', np.max(abs(MMdag-I)))"
   ]
  },
  {
   "cell_type": "markdown",
   "metadata": {},
   "source": [
    "$\\quad$ As a final remark, we note that in tensor network algorithms starting with a random MPS with trivial outer bonds, it is standard practice to apply both 'LeftCanonical' and 'RightCanonical' functions once.\n",
    "This ensures two things:\n",
    "i) that the random MPS is normalized; \n",
    "ii) that some (redundant) bond dimensions (typically closer to the end sites) are trivially truncated due to the thin SVD."
   ]
  },
  {
   "cell_type": "code",
   "execution_count": 7,
   "metadata": {},
   "outputs": [
    {
     "name": "stdout",
     "output_type": "stream",
     "text": [
      "Dimensions of Mrand:\n",
      "l = 0 : (1, 3, 20)\n",
      "l = 1 : (20, 3, 20)\n",
      "l = 2 : (20, 3, 20)\n",
      "l = 3 : (20, 3, 20)\n",
      "l = 4 : (20, 3, 20)\n",
      "l = 5 : (20, 3, 20)\n",
      "l = 6 : (20, 3, 20)\n",
      "l = 7 : (20, 3, 20)\n",
      "l = 8 : (20, 3, 20)\n",
      "l = 9 : (20, 3, 1)\n",
      "\n",
      "After LeftCanonical function:\n",
      "l = 0 : (1, 3, 3)\n",
      "l = 1 : (3, 3, 9)\n",
      "l = 2 : (9, 3, 20)\n",
      "l = 3 : (20, 3, 20)\n",
      "l = 4 : (20, 3, 20)\n",
      "l = 5 : (20, 3, 20)\n",
      "l = 6 : (20, 3, 20)\n",
      "l = 7 : (20, 3, 20)\n",
      "l = 8 : (20, 3, 20)\n",
      "l = 9 : (20, 3, 1)\n",
      "\n",
      "After LeftCanonical and RightCanonical functions:\n",
      "l = 0 : (1, 3, 3)\n",
      "l = 1 : (3, 3, 9)\n",
      "l = 2 : (9, 3, 20)\n",
      "l = 3 : (20, 3, 20)\n",
      "l = 4 : (20, 3, 20)\n",
      "l = 5 : (20, 3, 20)\n",
      "l = 6 : (20, 3, 20)\n",
      "l = 7 : (20, 3, 9)\n",
      "l = 8 : (9, 3, 3)\n",
      "l = 9 : (3, 3, 1)\n"
     ]
    }
   ],
   "source": [
    "print('Dimensions of Mrand:')\n",
    "for l in range(N):\n",
    "    print('l =', l, ':', np.shape(Mrand[l]))\n",
    "\n",
    "Mrand2 = LeftCanonical(Mrand)\n",
    "print(\"\\nAfter LeftCanonical function:\")\n",
    "for l in range(N):\n",
    "    print('l =', l, ':', np.shape(Mrand2[l]))\n",
    "    \n",
    "Mrand3 = RightCanonical(Mrand2)\n",
    "print(\"\\nAfter LeftCanonical and RightCanonical functions:\")\n",
    "for l in range(N):\n",
    "    print('l =', l, ':', np.shape(Mrand3[l]))"
   ]
  },
  {
   "cell_type": "markdown",
   "metadata": {},
   "source": [
    "# MPOs of Hamiltonians\n",
    "\n",
    "$\\quad$ In this section, we show how to build the MPO of a model Hamiltonian, following the strategy explained in the manuscript.\n",
    "For concreteness, we focus on Hamiltonians of 1D spin chains with open boundary conditions.\n",
    "For clarity purposes, we consider three different examples, which should illustrate how to do it for a general model.\n",
    "\n",
    "## i) XY model\n",
    "\n",
    "$\\quad$ The Hamiltonian of an XY open-ended chain is given by\n",
    "$$\n",
    "\\hat{\\mathcal{H}}_\\text{XY} = -\\sum_{l=0}^{N-2} \\left( \\hat{\\sigma}^x_l \\hat{\\sigma}^x_{l+1} + \\hat{\\sigma}^y_l \\hat{\\sigma}^y_{l+1} \\right),\n",
    "$$\n",
    "where $N$ is the number of $s=1/2$ spins and $\\hat{\\sigma}^{x/y}_l$ are the $x$/$y$ spin-1/2 operators at site $l$.\n",
    "\n",
    "$\\quad$ Straightforward manipulation gives\n",
    "$$\n",
    "\\hat{\\mathcal{H}}_\\text{XY} = -\\frac{1}{2} \\sum_{l=0}^{N-2} \\left( \\hat{\\sigma}^+_l \\hat{\\sigma}^-_{l+1} + \\hat{\\sigma}^-_l \\hat{\\sigma}^+_{l+1} \\right),\n",
    "$$\n",
    "where $\\hat{\\sigma}^\\pm_l = \\hat{\\sigma}^x_l \\pm \\mathrm{i} \\hat{\\sigma}^y_l$ are the spin ladder operators."
   ]
  },
  {
   "cell_type": "code",
   "execution_count": 8,
   "metadata": {},
   "outputs": [],
   "source": [
    "'''\n",
    "    Function that creates the MPO Hamiltonian (order of legs: left-bottom-right-top) for an XY chain with N \n",
    "        (s=1/2) spins and open boundary conditions.\n",
    "'''\n",
    "def XY_MPO(N):\n",
    "    # spin-1/2 operators\n",
    "    '''\n",
    "        Order of legs: bottom-top.\n",
    "        Note: this is the conventional order used for (rank-2) local operators in the code.\n",
    "    '''\n",
    "    ## σ^z_l\n",
    "    sz = np.zeros((2,2))\n",
    "    sz[0,0] = 1/2\n",
    "    sz[1,1] = -1/2\n",
    "    ## σ^+_l\n",
    "    sp = np.zeros((2,2))\n",
    "    sp[0,1] = 1\n",
    "    ## σ^-_l\n",
    "    sm = np.zeros((2,2))\n",
    "    sm[1,0] = 1\n",
    "    ## I_l\n",
    "    I2 = np.eye(2)\n",
    "    \n",
    "    # MPO Hamiltonian\n",
    "    '''\n",
    "        Order of legs: left-bottom-right-top.\n",
    "        Note: this is the conventional order used for MPOs in the code.\n",
    "    '''\n",
    "    ## W\n",
    "    W = np.zeros((4,2,4,2))\n",
    "    W[0,:,0,:] = I2\n",
    "    W[1,:,0,:] = sm\n",
    "    W[2,:,0,:] = sp\n",
    "    W[3,:,1,:] = -0.5*sp\n",
    "    W[3,:,2,:] = -0.5*sm\n",
    "    W[3,:,3,:] = I2\n",
    "    ## H\n",
    "    H = [W for l in range(N)]\n",
    "    H[0] = W[-1:np.shape(W)[0],:,:,:]\n",
    "    H[N-1] = W[:,:,0:1,:]\n",
    "    \n",
    "    return H"
   ]
  },
  {
   "cell_type": "markdown",
   "metadata": {},
   "source": [
    "$\\quad$ For completeness, let us now show how to contract the Hamiltonian MPO to obtain the Hamiltonian matrix (in the physical basis), which can then be compared to that obtained by brute-force means.\n",
    "It must be noted that this procedure is not desired (and never done) in a tensor network algorithm, as the dimension of the Hamiltonian matrix scales exponentially with $N$, so that it can only be obtained for small $N$ (this remark is actually illustrative of how efficient MPOs are in the task of enconding the information of a model Hamiltonian).\n",
    "Here, we only do it to convince ourselves that the Hamiltonian MPO was properly constructed."
   ]
  },
  {
   "cell_type": "code",
   "execution_count": 9,
   "metadata": {},
   "outputs": [],
   "source": [
    "'''\n",
    "    Function that creates the Hamiltonian matrix for an XY chain with N (s=1/2) spins and open boundary \n",
    "        conditions.\n",
    "'''\n",
    "def Hmat_XY(N):\n",
    "    # spin-1/2 operators\n",
    "    ## σ^z_l\n",
    "    sz = np.zeros((2,2))\n",
    "    sz[0,0] = 1/2\n",
    "    sz[1,1] = -1/2\n",
    "    ## σ^+_l\n",
    "    sp = np.zeros((2,2))\n",
    "    sp[0,1] = 1\n",
    "    ## σ^-_l\n",
    "    sm = np.zeros((2,2))\n",
    "    sm[1,0] = 1\n",
    "    ## I_l\n",
    "    I2 = np.eye(2)\n",
    "    \n",
    "    # Hamiltonian matrix\n",
    "    H = np.zeros((2**N,2**N))\n",
    "    for l in range(N-1):\n",
    "        Ileft = np.eye(2**l) #I_0 x I_1 x ... I_{l-1}\n",
    "        Hmid = -0.5*np.kron(sp,sm) #-1/2 * σ^+_l x σ^-_{l+1}\n",
    "        Hmid += -0.5*np.kron(sm,sp) #-1/2 * σ^-_l x σ^+_{l+1}\n",
    "        Iright = np.eye(2**(N-l-2)) #I_{l+2} x I_{l+3} x ... I_{N-1}\n",
    "    \n",
    "        H += np.kron(np.kron(Ileft,Hmid),Iright)\n",
    "    \n",
    "    return H"
   ]
  },
  {
   "cell_type": "code",
   "execution_count": 10,
   "metadata": {},
   "outputs": [
    {
     "name": "stdout",
     "output_type": "stream",
     "text": [
      "difference between MPO and brute-force Hamiltonians = 0.0\n"
     ]
    }
   ],
   "source": [
    "# parameters\n",
    "N = 5\n",
    "\n",
    "# Hamiltonian matrix from MPO\n",
    "H_MPO = XY_MPO(N)\n",
    "for l in range(N):\n",
    "    if l==0:\n",
    "        Taux = H_MPO[l][0,:,:,:]\n",
    "    else:\n",
    "        Taux = np.einsum('ijk,jlmn',Taux,H_MPO[l])\n",
    "        Taux = np.transpose(Taux,(0,2,3,1,4))\n",
    "        Taux = np.reshape(Taux,(np.shape(Taux)[0]*np.shape(Taux)[1],np.shape(Taux)[2],\n",
    "                                np.shape(Taux)[3]*np.shape(Taux)[4]))\n",
    "Hmat = Taux[:,0,:]\n",
    "\n",
    "# brute-force Hamiltonian matrix\n",
    "Hmat2 = Hmat_XY(N)\n",
    "\n",
    "# difference\n",
    "print('difference between MPO and brute-force Hamiltonians =', np.max(abs(Hmat-Hmat2)))"
   ]
  },
  {
   "cell_type": "markdown",
   "metadata": {},
   "source": [
    "## ii) Majumdar-Ghosh model\n",
    "\n",
    "$\\quad$ The Majumdar-Ghosh model describes a chain of $N$ $s=1/2$ spins, governed by the following Hamiltonian (assuming open boundary conditions):\n",
    "$$\n",
    "\\hat{\\mathcal{H}}_\\text{MG} = \\sum_{l=0}^{N-2} \\hat{\\vec{\\sigma}}_l \\cdot \\hat{\\vec{\\sigma}}_{l+1} + \\frac{1}{2} \\sum_{l=0}^{N-3} \\hat{\\vec{\\sigma}}_l \\cdot \\hat{\\vec{\\sigma}}_{l+2},\n",
    "$$\n",
    "where $\\hat{\\vec{\\sigma}}_l = (\\hat{\\sigma}^x_l, \\hat{\\sigma}^y_l, \\hat{\\sigma}^z_l)$ is the vector of spin-1/2 operators at site $l$.\n",
    "\n",
    "$\\quad$ Straightforward manipulation yields\n",
    "$$\n",
    "\\hat{\\mathcal{H}}_\\text{MG} = \\sum_{l=0}^{N-2} \\left( \\hat{\\sigma}^z_l \\hat{\\sigma}^z_{l+1} + \\frac{1}{2} \\hat{\\sigma}^+_l \\hat{\\sigma}^-_{l+1} + \\frac{1}{2} \\hat{\\sigma}^-_l \\hat{\\sigma}^+_{l+1} \\right) + \\sum_{l=0}^{N-3} \\left( \\frac{1}{2} \\hat{\\sigma}^z_l \\hat{\\sigma}^z_{l+2} + \\frac{1}{4} \\hat{\\sigma}^+_l \\hat{\\sigma}^-_{l+2} + \\frac{1}{4} \\hat{\\sigma}^-_l \\hat{\\sigma}^+_{l+2} \\right).\n",
    "$$"
   ]
  },
  {
   "cell_type": "code",
   "execution_count": 11,
   "metadata": {},
   "outputs": [],
   "source": [
    "'''\n",
    "    Function that creates the MPO Hamiltonian (order of legs: left-bottom-right-top) for a Majumdar-Ghosh chain \n",
    "        with N (s=1/2) spins and open boundary conditions.\n",
    "'''\n",
    "def MG_MPO(N):\n",
    "    # spin-1/2 operators (bottom-top)\n",
    "    ## σ^z_l\n",
    "    sz = np.zeros((2,2))\n",
    "    sz[0,0] = 1/2\n",
    "    sz[1,1] = -1/2\n",
    "    ## σ^+_l\n",
    "    sp = np.zeros((2,2))\n",
    "    sp[0,1] = 1\n",
    "    ## σ^-_l\n",
    "    sm = np.zeros((2,2))\n",
    "    sm[1,0] = 1\n",
    "    ## I_l\n",
    "    I2 = np.eye(2)\n",
    "    \n",
    "    # MPO Hamiltonian (left-bottom-right-top)\n",
    "    ## W\n",
    "    W = np.zeros((8,2,8,2))\n",
    "    W[0,:,0,:] = I2\n",
    "    W[1,:,0,:] = sz\n",
    "    W[2,:,0,:] = sm\n",
    "    W[3,:,0,:] = sp\n",
    "    W[4,:,1,:] = I2\n",
    "    W[5,:,2,:] = I2\n",
    "    W[6,:,3,:] = I2\n",
    "    W[7,:,1,:] = sz\n",
    "    W[7,:,2,:] = 0.5*sp\n",
    "    W[7,:,3,:] = 0.5*sm\n",
    "    W[7,:,4,:] = 0.5*sz\n",
    "    W[7,:,5,:] = 1/4*sp\n",
    "    W[7,:,6,:] = 1/4*sm\n",
    "    W[7,:,7,:] = I2\n",
    "    # H\n",
    "    H = [W for l in range(N)]\n",
    "    H[0] = W[-1:np.shape(W)[0],:,:,:]\n",
    "    H[N-1] = W[:,:,0:1,:]\n",
    "    \n",
    "    return H"
   ]
  },
  {
   "cell_type": "markdown",
   "metadata": {},
   "source": [
    "$\\quad$ As a sanity check, we compare again with the brute-force Hamiltonian."
   ]
  },
  {
   "cell_type": "code",
   "execution_count": 12,
   "metadata": {},
   "outputs": [],
   "source": [
    "'''\n",
    "    Function that creates the Hamiltonian matrix for a Majumdar-Ghosh chain with N (s=1/2) spins and open boundary \n",
    "        conditions.\n",
    "'''\n",
    "def Hmat_MG(N):\n",
    "    # spin-1/2 operators\n",
    "    ## σ^z_l\n",
    "    sz = np.zeros((2,2))\n",
    "    sz[0,0] = 1/2\n",
    "    sz[1,1] = -1/2\n",
    "    ## σ^+_l\n",
    "    sp = np.zeros((2,2))\n",
    "    sp[0,1] = 1\n",
    "    ## σ^-_l\n",
    "    sm = np.zeros((2,2))\n",
    "    sm[1,0] = 1\n",
    "    ## I_l\n",
    "    I2 = np.eye(2)\n",
    "    \n",
    "    # Hamiltonian matrix\n",
    "    H = np.zeros((2**N,2**N))\n",
    "    for l in range(N-1):\n",
    "        Ileft = np.eye(2**l) #I_0 x I_1 x ... I_{l-1}\n",
    "        Hmid = np.kron(sz,sz) #σ^z_l x σ^z_{l+1}\n",
    "        Hmid += 0.5*np.kron(sp,sm) #1/2 * σ^+_l x σ^-_{l+1}\n",
    "        Hmid += 0.5*np.kron(sm,sp) #1/2 * σ^-_l x σ^+_{l+1}\n",
    "        Iright = np.eye(2**(N-l-2)) #I_{l+2} x I_{l+3} x ... I_{N-1}\n",
    "    \n",
    "        H += np.kron(np.kron(Ileft,Hmid),Iright)\n",
    "    for l in range(N-2):\n",
    "        Ileft = np.eye(2**l) #I_0 x I_1 x ... I_{l-1}\n",
    "        Hmid = 0.5*np.kron(np.kron(sz,I2),sz) #1/2 * σ^z_l x I_{l+1} x σ^z_{l+2}\n",
    "        Hmid += 1/4*np.kron(np.kron(sp,I2),sm) #1/4 * σ^+_l x I_{l+1} x σ^-_{l+2}\n",
    "        Hmid += 1/4*np.kron(np.kron(sm,I2),sp) #1/4 * σ^-_l x I_{l+1} x σ^+_{l+2}\n",
    "        Iright = np.eye(2**(N-l-3)) #I_{l+3} x I_{l+3} x ... I_{N-1}\n",
    "    \n",
    "        H += np.kron(np.kron(Ileft,Hmid),Iright)\n",
    "    \n",
    "    return H"
   ]
  },
  {
   "cell_type": "code",
   "execution_count": 13,
   "metadata": {},
   "outputs": [
    {
     "name": "stdout",
     "output_type": "stream",
     "text": [
      "difference between MPO and brute-force Hamiltonians = 0.0\n"
     ]
    }
   ],
   "source": [
    "# parameters\n",
    "N = 5\n",
    "\n",
    "# Hamiltonian matrix from MPO\n",
    "H_MPO = MG_MPO(N)\n",
    "for l in range(N):\n",
    "    if l==0:\n",
    "        Taux = H_MPO[l][0,:,:,:]\n",
    "    else:\n",
    "        Taux = np.einsum('ijk,jlmn',Taux,H_MPO[l])\n",
    "        Taux = np.transpose(Taux,(0,2,3,1,4))\n",
    "        Taux = np.reshape(Taux,(np.shape(Taux)[0]*np.shape(Taux)[1],np.shape(Taux)[2],\n",
    "                                np.shape(Taux)[3]*np.shape(Taux)[4]))\n",
    "Hmat = Taux[:,0,:]\n",
    "\n",
    "# brute-force Hamiltonian matrix\n",
    "Hmat2 = Hmat_MG(N)\n",
    "\n",
    "# difference\n",
    "print('difference between MPO and brute-force Hamiltonians =', np.max(abs(Hmat-Hmat2)))"
   ]
  },
  {
   "cell_type": "markdown",
   "metadata": {},
   "source": [
    "## iii) AKLT model\n",
    " \n",
    "$\\quad$ The AKLT model describes a chain of $N$ $s=1$ spins, governed by the following Hamiltonian (assuming open boundary conditions):\n",
    "$$\n",
    "\\hat{\\mathcal{H}}_\\text{AKLT} = \\sum_{l=0}^{N-2} \\left[ \\hat{\\vec{S}}_l \\cdot \\hat{\\vec{S}}_{l+1} + \\frac{1}{3} \\left( \\hat{\\vec{S}}_l \\cdot \\hat{\\vec{S}}_{l+1} \\right)^2 \\right],\n",
    "$$\n",
    "where $\\hat{\\vec{S}}_l = (\\hat{S}^x_l, \\hat{S}^y_l, \\hat{S}^z_l)$ is the vector of spin-1 operators at site $l$. \n",
    "\n",
    "$\\quad$ Straightforward manipulation leads to\n",
    "$$\n",
    "\\hat{\\mathcal{H}}_\\text{AKLT} = \\sum_{l=0}^{N-2} \\left[ \\hat{S}^z_l \\hat{S}^z_{l+1} + \\frac{1}{2} \\hat{S}^+_l \\hat{S}^-_{l+1} + \\frac{1}{2} \\hat{S}^-_l \\hat{S}^+_{l+1} + \\frac{1}{3} \\hat{S}^z_l \\hat{S}^z_l \\hat{S}^z_{l+1} \\hat{S}^z_{l+1} + \\frac{1}{6} \\hat{S}^z_l \\hat{S}^+_l \\hat{S}^z_{l+1} \\hat{S}^-_{l+1} + \\frac{1}{6} \\hat{S}^z_l \\hat{S}^-_l \\hat{S}^z_{l+1} \\hat{S}^+_{l+1} + \\frac{1}{6} \\hat{S}^+_l \\hat{S}^z_l \\hat{S}^-_{l+1} \\hat{S}^z_{l+1} + \\frac{1}{12} \\hat{S}^+_l \\hat{S}^+_l \\hat{S}^-_{l+1} \\hat{S}^-_{l+1} + \\frac{1}{12} \\hat{S}^+_l \\hat{S}^-_l \\hat{S}^-_{l+1} \\hat{S}^+_{l+1} + \\frac{1}{6} \\hat{S}^-_l \\hat{S}^z_l \\hat{S}^+_{l+1} \\hat{S}^z_{l+1} + \\frac{1}{12} \\hat{S}^-_l  \\hat{S}^+_l \\hat{S}^+_{l+1} \\hat{S}^-_{l+1} + \\frac{1}{12} \\hat{S}^-_l \\hat{S}^-_l \\hat{S}^+_{l+1} \\hat{S}^+_{l+1} \\right].\n",
    "$$"
   ]
  },
  {
   "cell_type": "code",
   "execution_count": 14,
   "metadata": {},
   "outputs": [],
   "source": [
    "'''\n",
    "    Function that creates the MPO Hamiltonian (order of legs: left-bottom-right-top) for an AKLT chain with N \n",
    "        (s=1) spins and open boundary conditions.\n",
    "'''\n",
    "def AKLT_MPO(N):\n",
    "    # spin-1 operators (bottom-top)\n",
    "    ## S^z_l\n",
    "    Sz = np.zeros((3,3))\n",
    "    Sz[0,0] = 1\n",
    "    Sz[2,2] = -1\n",
    "    ## S^+_l\n",
    "    Sp = np.zeros((3,3))\n",
    "    Sp[0,1] = np.sqrt(2)\n",
    "    Sp[1,2] = np.sqrt(2)\n",
    "    ## S^-_l\n",
    "    Sm = np.zeros((3,3))\n",
    "    Sm[1,0] = np.sqrt(2)\n",
    "    Sm[2,1] = np.sqrt(2)\n",
    "    ## I_l\n",
    "    I3 = np.eye(3)\n",
    "    \n",
    "    # MPO Hamiltonian (left-bottom-right-top)\n",
    "    ## W\n",
    "    W = np.zeros((14,3,14,3))\n",
    "    W[0,:,0,:] = I3\n",
    "    W[1,:,0,:] = Sz\n",
    "    W[2,:,0,:] = Sm\n",
    "    W[3,:,0,:] = Sp\n",
    "    W[4,:,0,:] = np.matmul(Sz,Sz)\n",
    "    W[5,:,0,:] = np.matmul(Sz,Sm)\n",
    "    W[6,:,0,:] = np.matmul(Sz,Sp)\n",
    "    W[7,:,0,:] = np.matmul(Sm,Sz)\n",
    "    W[8,:,0,:] = np.matmul(Sm,Sm)\n",
    "    W[9,:,0,:] = np.matmul(Sm,Sp)\n",
    "    W[10,:,0,:] = np.matmul(Sp,Sz)\n",
    "    W[11,:,0,:] = np.matmul(Sp,Sm)\n",
    "    W[12,:,0,:] = np.matmul(Sp,Sp)\n",
    "    W[13,:,1,:] = Sz\n",
    "    W[13,:,2,:] = 0.5*Sp\n",
    "    W[13,:,3,:] = 0.5*Sm\n",
    "    W[13,:,4,:] = 1/3*np.matmul(Sz,Sz)\n",
    "    W[13,:,5,:] = 1/6*np.matmul(Sz,Sp)\n",
    "    W[13,:,6,:] = 1/6*np.matmul(Sz,Sm)\n",
    "    W[13,:,7,:] = 1/6*np.matmul(Sp,Sz)\n",
    "    W[13,:,8,:] = 1/12*np.matmul(Sp,Sp)\n",
    "    W[13,:,9,:] = 1/12*np.matmul(Sp,Sm)\n",
    "    W[13,:,10,:] = 1/6*np.matmul(Sm,Sz)\n",
    "    W[13,:,11,:] = 1/12*np.matmul(Sm,Sp)\n",
    "    W[13,:,12,:] = 1/12*np.matmul(Sm,Sm)\n",
    "    W[13,:,13,:] = I3\n",
    "    ## H\n",
    "    H = [W for l in range(N)]\n",
    "    H[0] = W[-1:np.shape(W)[0],:,:,:]\n",
    "    H[N-1] = W[:,:,0:1,:]\n",
    "    \n",
    "    return H"
   ]
  },
  {
   "cell_type": "markdown",
   "metadata": {},
   "source": [
    "$\\quad$ As a sanity check, we compare again with the brute-force Hamiltonian."
   ]
  },
  {
   "cell_type": "code",
   "execution_count": 15,
   "metadata": {},
   "outputs": [],
   "source": [
    "'''\n",
    "    Function that creates the Hamiltonian matrix for an AKLT chain with N (s=1) spins and open boundary \n",
    "        conditions.\n",
    "'''\n",
    "def Hmat_AKLT(N):\n",
    "    # spin-1 operators\n",
    "    ## S^z_l\n",
    "    Sz = np.zeros((3,3))\n",
    "    Sz[0,0] = 1\n",
    "    Sz[2,2] = -1\n",
    "    ## S^+_l\n",
    "    Sp = np.zeros((3,3))\n",
    "    Sp[0,1] = np.sqrt(2)\n",
    "    Sp[1,2] = np.sqrt(2)\n",
    "    ## S^-_l\n",
    "    Sm = np.zeros((3,3))\n",
    "    Sm[1,0] = np.sqrt(2)\n",
    "    Sm[2,1] = np.sqrt(2)\n",
    "    ## I_l\n",
    "    I3 = np.eye(3)\n",
    "    \n",
    "    # Hamiltonian matrix\n",
    "    H = np.zeros((3**N,3**N))\n",
    "    for l in range(N-1):\n",
    "        Ileft = np.eye(3**l) #I_0 x I_1 x ... I_{l-1}\n",
    "        Hmid = np.kron(Sz,Sz) #S^z_l x S^z_{l+1}\n",
    "        Hmid += 0.5*np.kron(Sp,Sm) #1/2 * S^+_l x S^-_{l+1}\n",
    "        Hmid += 0.5*np.kron(Sm,Sp) #1/2 * S^-_l x S^+_{l+1}\n",
    "        Hmid += 1/3*np.kron(np.matmul(Sz,Sz),np.matmul(Sz,Sz)) #1/3 * (S^z_l * S^z_l) x (S^z_{l+1} * S^z_{l+1})\n",
    "        Hmid += 1/6*np.kron(np.matmul(Sz,Sp),np.matmul(Sz,Sm)) #1/6 * (S^z_l * S^+_l) x (S^z_{l+1} * S^-_{l+1})\n",
    "        Hmid += 1/6*np.kron(np.matmul(Sz,Sm),np.matmul(Sz,Sp)) #1/6 * (S^z_l * S^-_l) x (S^z_{l+1} * S^+_{l+1})\n",
    "        Hmid += 1/6*np.kron(np.matmul(Sp,Sz),np.matmul(Sm,Sz)) #1/6 * (S^+_l * S^z_l) x (S^-_{l+1} * S^z_{l+1})\n",
    "        Hmid += 1/12*np.kron(np.matmul(Sp,Sp),np.matmul(Sm,Sm)) #1/12 * (S^+_l * S^+_l) x (S^-_{l+1} * S^-_{l+1})\n",
    "        Hmid += 1/12*np.kron(np.matmul(Sp,Sm),np.matmul(Sm,Sp)) #1/12 * (S^+_l * S^-_l) x (S^-_{l+1} * S^+_{l+1})\n",
    "        Hmid += 1/6*np.kron(np.matmul(Sm,Sz),np.matmul(Sp,Sz)) #1/6 * (S^-_l * S^z_l) x (S^+_{l+1} * S^z_{l+1})\n",
    "        Hmid += 1/12*np.kron(np.matmul(Sm,Sp),np.matmul(Sp,Sm)) #1/12 * (S^-_l * S^+_l) x (S^+_{l+1} * S^-_{l+1})\n",
    "        Hmid += 1/12*np.kron(np.matmul(Sm,Sm),np.matmul(Sp,Sp)) #1/12 * (S^-_l * S^-_l) x (S^+_{l+1} * S^+_{l+1})\n",
    "        Iright = np.eye(3**(N-l-2)) #I_{l+2} x I_{l+3} x ... I_{N-1}\n",
    "    \n",
    "        H += np.kron(np.kron(Ileft,Hmid),Iright)\n",
    "    \n",
    "    return H"
   ]
  },
  {
   "cell_type": "code",
   "execution_count": 16,
   "metadata": {},
   "outputs": [
    {
     "name": "stdout",
     "output_type": "stream",
     "text": [
      "difference between MPO and brute-force Hamiltonians = 8.881784197001252e-16\n"
     ]
    }
   ],
   "source": [
    "# parameters\n",
    "N = 5\n",
    "\n",
    "# Hamiltonian matrix from MPO\n",
    "H_MPO = AKLT_MPO(N)\n",
    "for l in range(N):\n",
    "    if l==0:\n",
    "        Taux = H_MPO[l][0,:,:,:]\n",
    "    else:\n",
    "        Taux = np.einsum('ijk,jlmn',Taux,H_MPO[l])\n",
    "        Taux = np.transpose(Taux,(0,2,3,1,4))\n",
    "        Taux = np.reshape(Taux,(np.shape(Taux)[0]*np.shape(Taux)[1],np.shape(Taux)[2],\n",
    "                                np.shape(Taux)[3]*np.shape(Taux)[4]))\n",
    "Hmat = Taux[:,0,:]\n",
    "\n",
    "# brute-force Hamiltonian matrix\n",
    "Hmat2 = Hmat_AKLT(N)\n",
    "\n",
    "# difference\n",
    "print('difference between MPO and brute-force Hamiltonians =', np.max(abs(Hmat-Hmat2)))"
   ]
  },
  {
   "cell_type": "markdown",
   "metadata": {},
   "source": [
    "# Closing the zipper\n",
    "\n",
    "$\\quad$ As discussed in the manuscript, there is an optimal way to make the tensor contractions involved in the calculation of expectation values of operators (described by an MPO) for a given wave function (described by an MPS).\n",
    "This is referred to as \"closing the zipper\".\n",
    "Here, we define a general function that makes the contractions depicted below, which can be used to \"close the zipper from the left\" within a few lines of code, as we will show later.\n",
    "\n",
    "<img src=\"ZipperLeft.jpeg\" width=250 />"
   ]
  },
  {
   "cell_type": "code",
   "execution_count": 17,
   "metadata": {},
   "outputs": [],
   "source": [
    "'''\n",
    "    Function that makes the following contractions (numbers denote leg order):\n",
    "    \n",
    "         /--3--**--1--Tt--3--\n",
    "         |             |\n",
    "         |             2\n",
    "         |             |\n",
    "         |             *\n",
    "         |             *\n",
    "         |             |\n",
    "         |             4                 /--3-- \n",
    "         |             |                 |\n",
    "        Tl--2--**--1---O--3--     =     Tf--2--\n",
    "         |             |                 |\n",
    "         |             2                 \\--1--\n",
    "         |             |\n",
    "         |             *\n",
    "         |             *\n",
    "         |             |\n",
    "         |             2 \n",
    "         |             |\n",
    "         \\--1--**--3--Tb--1-- \n",
    "'''\n",
    "def ZipperLeft(Tl,Tb,O,Tt):\n",
    "    Taux = np.einsum('ijk,klm',Tb,Tl)\n",
    "    Taux = np.einsum('ijkl,kjmn',Taux,O)\n",
    "    Tf = np.einsum('ijkl,jlm',Taux,Tt)\n",
    "    \n",
    "    return Tf"
   ]
  },
  {
   "cell_type": "markdown",
   "metadata": {},
   "source": [
    "$\\quad$ Let us now show how to make use of the previous function.\n",
    "For that matter, we consider one of the four ground state solutions of an open-ended AKLT chain with $N$ $s=1$ spins, which can be written as a (non-normalized) MPS where every local tensor $M^{\\alpha,\\sigma,\\beta}_{[l]}$ is given by\n",
    "$$\n",
    "M^{\\alpha,+1,\\beta}_{[l]} = \\sqrt{\\frac{2}{3}}\n",
    "\\begin{pmatrix}\n",
    "0 & 1\\\\\n",
    "0 & 0\n",
    "\\end{pmatrix}, \\quad \n",
    "M^{\\alpha,0,\\beta}_{[l]} = \\frac{1}{\\sqrt{3}}\n",
    "\\begin{pmatrix}\n",
    "-1 & 0\\\\\n",
    "0 & 1\n",
    "\\end{pmatrix}, \\quad \n",
    "M^{\\alpha,-1,\\beta}_{[l]} = \\sqrt{\\frac{2}{3}}\n",
    "\\begin{pmatrix}\n",
    "0 & 0\\\\\n",
    "-1 & 0\n",
    "\\end{pmatrix},\n",
    "$$\n",
    "except for the terminal sites $l=0$ and $l=N-1$, where the local tensors read as\n",
    "$$\n",
    "M^{\\alpha,+1,\\beta}_{[0]} = \\sqrt{\\frac{2}{3}}\n",
    "\\begin{pmatrix}\n",
    "0 & 1\n",
    "\\end{pmatrix}, \\quad \n",
    "M^{\\alpha,0,\\beta}_{[0]} = \\frac{1}{\\sqrt{3}}\n",
    "\\begin{pmatrix}\n",
    "-1 & 0\n",
    "\\end{pmatrix}, \\quad \n",
    "M^{\\alpha,-1,\\beta}_{[0]} =\n",
    "\\begin{pmatrix}\n",
    "0 & 0\n",
    "\\end{pmatrix}\n",
    "$$\n",
    "and\n",
    "$$\n",
    "M^{\\alpha,+1,\\beta}_{[N-1]} =\n",
    "\\begin{pmatrix}\n",
    "0 \\\\\n",
    "0\n",
    "\\end{pmatrix}, \\quad \n",
    "M^{\\alpha,0,\\beta}_{[N-1]} = \\frac{1}{\\sqrt{3}}\n",
    "\\begin{pmatrix}\n",
    "-1\\\\\n",
    "0\n",
    "\\end{pmatrix}, \\quad \n",
    "M^{\\alpha,-1,\\beta}_{[N-1]} = \\sqrt{\\frac{2}{3}}\n",
    "\\begin{pmatrix}\n",
    "0\\\\\n",
    "-1\n",
    "\\end{pmatrix}.\n",
    "$$"
   ]
  },
  {
   "cell_type": "code",
   "execution_count": 18,
   "metadata": {},
   "outputs": [],
   "source": [
    "# parameters\n",
    "N = 100\n",
    "\n",
    "# AKLT MPS ground state (left-bottom-right)\n",
    "## Ml\n",
    "Ml_AKLT = np.zeros((2,3,2))\n",
    "Ml_AKLT[0,0,1] = np.sqrt(2/3)\n",
    "Ml_AKLT[0,1,0] = -1/np.sqrt(3)\n",
    "Ml_AKLT[1,1,1] = 1/np.sqrt(3)\n",
    "Ml_AKLT[1,2,0] = -np.sqrt(2/3)\n",
    "## M\n",
    "M_AKLT = []\n",
    "M_AKLT.append(Ml_AKLT[0:1,:,:])\n",
    "for l in range(1,N-1):\n",
    "    M_AKLT.append(Ml_AKLT)\n",
    "M_AKLT.append(Ml_AKLT[:,:,0:1])\n",
    "## normalized M\n",
    "M_AKLT = LeftCanonical(M_AKLT)\n",
    "M_AKLT = RightCanonical(M_AKLT)\n",
    "\n",
    "# MPO of AKLT Hamiltonian (left-bottom-right-top)\n",
    "H_AKLT = AKLT_MPO(N)"
   ]
  },
  {
   "cell_type": "markdown",
   "metadata": {},
   "source": [
    "$\\quad$ Using this MPS description of one of the ground states, together with the MPO description of the corresponding Hamiltonian, we can compute the ground state energy (closing the zipper from the left) and compare with the analytical result, $-\\frac{2}{3} (N-1)$. "
   ]
  },
  {
   "cell_type": "code",
   "execution_count": 19,
   "metadata": {},
   "outputs": [
    {
     "name": "stdout",
     "output_type": "stream",
     "text": [
      "<GS| H |GS> =  -66.00000000000013\n",
      "analytical result =  -66.0\n"
     ]
    }
   ],
   "source": [
    "# <GS| H |GS> for AKLT model, closing the zipper from the left\n",
    "Taux = np.ones((1,1,1))\n",
    "for l in range(N):\n",
    "    Taux = ZipperLeft(Taux,M_AKLT[l].conj().T,H_AKLT[l],M_AKLT[l])\n",
    "\n",
    "print('<GS| H |GS> = ', Taux[0,0,0])\n",
    "print('analytical result = ', -2*(N-1)/3)"
   ]
  },
  {
   "cell_type": "markdown",
   "metadata": {},
   "source": [
    "$\\quad$ Analogously, we define another general function and demonstrate how it can be used to close the zipper from the right."
   ]
  },
  {
   "cell_type": "code",
   "execution_count": 20,
   "metadata": {},
   "outputs": [],
   "source": [
    "'''\n",
    "    Function that makes the following contractions (numbers denote leg order):\n",
    "    \n",
    "         --1--Tt--3--**--1--\\\n",
    "               |            |\n",
    "               2            | \n",
    "               |            |  \n",
    "               *            |\n",
    "               *            |\n",
    "               |            |\n",
    "               4            |            --1--\\ \n",
    "               |            |                 |\n",
    "         --1---O--3--**--2--Tr     =     --2--Tf\n",
    "               |            |                 |\n",
    "               2            |            --3--/\n",
    "               |            |\n",
    "               *            |\n",
    "               *            |\n",
    "               |            |\n",
    "               2            | \n",
    "               |            |\n",
    "         --3--Tb--1--**--3--/\n",
    "'''\n",
    "def ZipperRight(Tr,Tb,O,Tt):\n",
    "    Taux = np.einsum('ijk,klm',Tt,Tr)\n",
    "    Taux = np.einsum('ijkl,mnkj',Taux,O)\n",
    "    Tf = np.einsum('ijkl,jlm',Taux,Tb)\n",
    "    \n",
    "    return Tf"
   ]
  },
  {
   "cell_type": "code",
   "execution_count": 21,
   "metadata": {},
   "outputs": [
    {
     "name": "stdout",
     "output_type": "stream",
     "text": [
      "<GS| H |GS> =  -65.99999999999994\n",
      "analytical result =  -66.0\n"
     ]
    }
   ],
   "source": [
    "# <GS| H |GS> for AKLT model, closing the zipper from the right\n",
    "Taux = np.ones((1,1,1))\n",
    "for l in range(N-1,-1,-1):\n",
    "    Taux = ZipperRight(Taux,M_AKLT[l].conj().T,H_AKLT[l],M_AKLT[l])\n",
    "\n",
    "print('<GS| H |GS> = ', Taux[0,0,0])\n",
    "print('analytical result = ', -2*(N-1)/3)"
   ]
  },
  {
   "cell_type": "markdown",
   "metadata": {},
   "source": [
    "# Finite-system DMRG: one-site update, ground state search\n",
    "\n",
    "Here... need to finish the documentation\n",
    "\n",
    "<img src=\"DMRG.jpeg\" width=750 />"
   ]
  },
  {
   "cell_type": "code",
   "execution_count": 22,
   "metadata": {},
   "outputs": [],
   "source": [
    "'''\n",
    "    Function that implements finite-system DMRG (one-site update version) to obtain the ground state of an input \n",
    "        Hamiltonian MPO (order of legs: left-bottom-right-top), 'H'.\n",
    "        \n",
    "    Notes:\n",
    "        - the (maximum) bond dimension for the MPS is an input, 'D'.\n",
    "        - the number of sweeps is an input, 'Nsweeps'.\n",
    "        - the outputs are the ground state energy at every step of the algorithm and the ground state MPS (order \n",
    "            of legs: left-bottom-right) at the final step.\n",
    "'''\n",
    "def finiteDMRG_1site_GS(H,D,Nsweeps):\n",
    "    N = len(H) #nr of sites\n",
    "    \n",
    "    # random MPS (left-bottom-right)\n",
    "    M = []\n",
    "    M.append(np.random.rand(1,np.shape(H[0])[3],D))\n",
    "    for l in range(1,N-1):\n",
    "        M.append(np.random.rand(D,np.shape(H[l])[3],D))\n",
    "    M.append(np.random.rand(D,np.shape(H[N-1])[3],1))\n",
    "    ## normalized MPS in right canonical form\n",
    "    M = LeftCanonical(M)\n",
    "    M = RightCanonical(M)\n",
    "    \n",
    "    # Hzip\n",
    "    '''\n",
    "        Every step of the finite-system DMRG consists in optimizing a given local tensor M[l], with l sweeped back\n",
    "            and forth between 0 and N-1. One full sweep corresponds to 0 -> N-1 (right sweep) and N-1 -> 0 (left \n",
    "            sweep).\n",
    "            \n",
    "        For a given l, we (conveniently) define Hzip as a list with N+2 elements where:\n",
    "\n",
    "            - Hzip[0] = Hzip[N+1] = np.ones((1,1,1))\n",
    "\n",
    "            - Hzip[it] =\n",
    "\n",
    "                /--------------M[it-1]--3--\n",
    "                |             \\|\n",
    "                |              |          \n",
    "                |              |               \n",
    "                Hzip[it-1]-----H[it-1]--2--          for it = 1, 2, ..., l\n",
    "                |              |\n",
    "                |              |\n",
    "                |             /|\n",
    "                \\--------------M[it-1]^†--1--\n",
    "\n",
    "            - Hzip[it] =\n",
    "\n",
    "                --1--M[it-1]-----\\\n",
    "                     |/          |\n",
    "                     |           |           \n",
    "                     |           |             \n",
    "                --2--H[it-1]-----Hzip[it+1]          for it = l+1, l+2, ..., N     \n",
    "                     |           |                 \n",
    "                     |           |\n",
    "                     |\\          |\n",
    "                --3--M[it-1]^†---/\n",
    "              \n",
    "        Here, we initialize Hzip considering l=0 (note that this is consistent with starting with a random MPS in\n",
    "            right canonical form). Consistently, we will start the DMRG routine with a right sweep.\n",
    "    '''\n",
    "    Hzip = [np.ones((1,1,1)) for it in range(N+2)]\n",
    "    for l in range(N-1,-1,-1):\n",
    "        Hzip[l+1] = ZipperRight(Hzip[l+2],M[l].conj().T,H[l],M[l])\n",
    "    \n",
    "    # DMRG routine\n",
    "    E_list = []\n",
    "    for itsweeps in range(Nsweeps):\n",
    "        ## right sweep\n",
    "        for l in range(N):\n",
    "            ### H^{a,a'}\n",
    "            Taux = np.einsum('ijk,jlmn',Hzip[l],H[l])\n",
    "            Taux = np.einsum('ijklm,nlo',Taux,Hzip[l+2])\n",
    "            Taux = np.transpose(Taux,(0,2,5,1,3,4))\n",
    "            Haa = np.reshape(Taux,(np.shape(Taux)[0]*np.shape(Taux)[1]*np.shape(Taux)[2],\n",
    "                                   np.shape(Taux)[3]*np.shape(Taux)[4]*np.shape(Taux)[5]))\n",
    "            \n",
    "            ### Lanczos diagonalization of H^{a,a'} (lowest energy eigenvalue)\n",
    "            val,vec = eigsh(Haa, k=1, which='SA')\n",
    "            E_list.append(val[0])\n",
    "            \n",
    "            ### update M[l]\n",
    "            '''\n",
    "                Note: in the right sweep, the local tensor M[l] obtained from Lanczos has to be left normalized. \n",
    "                    This is achieved by SVD. Conceptually, the remaining S*Vdag would have to be contracted with \n",
    "                    M[l+1], but this step is not necessary since M[l+1] will be obtained in the next step.\n",
    "            '''\n",
    "            Taux2 = np.reshape(vec,(np.shape(Taux)[0]*np.shape(Taux)[1],np.shape(Taux)[2]))\n",
    "            U,S,Vdag = np.linalg.svd(Taux2,full_matrices=False)\n",
    "            M[l] = np.reshape(U,(np.shape(Taux)[0],np.shape(Taux)[1],np.shape(U)[1]))\n",
    "                \n",
    "            ### update Hzip\n",
    "            Hzip[l+1] = ZipperLeft(Hzip[l],M[l].conj().T,H[l],M[l])\n",
    "            \n",
    "        ## left sweep\n",
    "        for l in range(N-1,-1,-1):\n",
    "            ### H^{a,a'}\n",
    "            Taux = np.einsum('ijk,jlmn',Hzip[l],H[l])\n",
    "            Taux = np.einsum('ijklm,nlo',Taux,Hzip[l+2])\n",
    "            Taux = np.transpose(Taux,(0,2,5,1,3,4))\n",
    "            Haa = np.reshape(Taux,(np.shape(Taux)[0]*np.shape(Taux)[1]*np.shape(Taux)[2],\n",
    "                                   np.shape(Taux)[3]*np.shape(Taux)[4]*np.shape(Taux)[5]))\n",
    "            \n",
    "            ### Lanczos diagonalization of H^{a,a'} (lowest energy eigenvalue)\n",
    "            val,vec = eigsh(Haa, k=1, which='SA')\n",
    "            E_list.append(val[0])\n",
    "            \n",
    "            ### update M[l]\n",
    "            '''\n",
    "                Note: in the left sweep, the local tensor M[l] obtained from Lanczos has to be right normalized. \n",
    "                    This is achieved by SVD. Conceptually, the remaining U*S would have to be contracted with \n",
    "                    M[l-1], but this step is not necessary since M[l-1] will be obtained in the next step.\n",
    "            '''\n",
    "            Taux2 = np.reshape(vec,(np.shape(Taux)[0],np.shape(Taux)[1]*np.shape(Taux)[2]))\n",
    "            U,S,Vdag = np.linalg.svd(Taux2,full_matrices=False)\n",
    "            M[l] = np.reshape(Vdag,(np.shape(Vdag)[0],np.shape(Taux)[1],np.shape(Taux)[2]))\n",
    "                \n",
    "            ### update Hzip\n",
    "            Hzip[l+1] = ZipperRight(Hzip[l+2],M[l].conj().T,H[l],M[l])\n",
    "        \n",
    "    return E_list,M"
   ]
  },
  {
   "cell_type": "code",
   "execution_count": 23,
   "metadata": {},
   "outputs": [],
   "source": [
    "N = 20\n",
    "\n",
    "H = XY_MPO(N)\n",
    "D = 15\n",
    "Nsweeps = 10\n",
    "\n",
    "E_list,M = finiteDMRG_1site_GS(H,D,Nsweeps)"
   ]
  },
  {
   "cell_type": "code",
   "execution_count": 24,
   "metadata": {},
   "outputs": [
    {
     "data": {
      "text/plain": [
       "-6.19073767518747"
      ]
     },
     "execution_count": 24,
     "metadata": {},
     "output_type": "execute_result"
    }
   ],
   "source": [
    "E_list[-1]"
   ]
  },
  {
   "cell_type": "code",
   "execution_count": 25,
   "metadata": {},
   "outputs": [
    {
     "name": "stdout",
     "output_type": "stream",
     "text": [
      "<GS| H |GS> =  -6.190737675187471\n"
     ]
    }
   ],
   "source": [
    "# <GS| H |GS> for AKLT model, closing the zipper from the right\n",
    "Taux = np.ones((1,1,1))\n",
    "for l in range(N-1,-1,-1):\n",
    "    Taux = ZipperRight(Taux,M[l].conj().T,H[l],M[l])\n",
    "\n",
    "print('<GS| H |GS> = ', Taux[0,0,0])"
   ]
  },
  {
   "cell_type": "code",
   "execution_count": 26,
   "metadata": {},
   "outputs": [
    {
     "data": {
      "text/plain": [
       "-6.190744999827377"
      ]
     },
     "execution_count": 26,
     "metadata": {},
     "output_type": "execute_result"
    }
   ],
   "source": [
    "0.5 - (0.5/np.sin(np.pi/2/(N+1)))"
   ]
  },
  {
   "cell_type": "markdown",
   "metadata": {},
   "source": [
    "<img src=\"fDMRG_XY_Egs.svg\" width=500 />\n",
    "\n",
    "<img src=\"fDMRG_MG_GS.svg\" width=500 />"
   ]
  }
 ],
 "metadata": {
  "kernelspec": {
   "display_name": "Python 3",
   "language": "python",
   "name": "python3"
  },
  "language_info": {
   "codemirror_mode": {
    "name": "ipython",
    "version": 3
   },
   "file_extension": ".py",
   "mimetype": "text/x-python",
   "name": "python",
   "nbconvert_exporter": "python",
   "pygments_lexer": "ipython3",
   "version": "3.8.8"
  }
 },
 "nbformat": 4,
 "nbformat_minor": 2
}
