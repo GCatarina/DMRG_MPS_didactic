{
 "cells": [
  {
   "cell_type": "code",
   "execution_count": 1,
   "metadata": {
    "tags": []
   },
   "outputs": [],
   "source": [
    "# packages\n",
    "import numpy as np #math operations\n",
    "from scipy.sparse.linalg import eigsh #Lanczos diagonalization for hermitian matrices\n",
    "import matplotlib.pyplot as plt #plots"
   ]
  },
  {
   "cell_type": "markdown",
   "metadata": {},
   "source": [
    "# Canonical forms\n",
    "\n",
    "$\\quad$ Before going into the implementation of DMRG, we first build a function that transforms an arbitrary MPS into a convenient canonical form.\n",
    "\n",
    "$\\quad$ We start by creating a random MPS with $N$ sites, physical dimension $d$ (for simplicity, equal in all sites) and bond dimension $D$ (for simplicity, equal in all bonds, except for the outer bonds, which are set trivial), as depicted below.\n",
    "\n",
    "<img src=\"MPS.svg\" width=600 />"
   ]
  },
  {
   "cell_type": "code",
   "execution_count": 2,
   "metadata": {
    "tags": []
   },
   "outputs": [],
   "source": [
    "# parameters\n",
    "N = 10\n",
    "d = 3\n",
    "D = 20\n",
    "\n",
    "# random MPS\n",
    "'''\n",
    "    Order of legs: left-bottom-right. \n",
    "    Note: this is the conventional order used for MPSs in the code.\n",
    "'''\n",
    "Mrand = []\n",
    "Mrand.append(np.random.rand(1,d,D))\n",
    "for l in range(1,N-1):\n",
    "    Mrand.append(np.random.rand(D,d,D))\n",
    "Mrand.append(np.random.rand(D,d,1))"
   ]
  },
  {
   "cell_type": "markdown",
   "metadata": {},
   "source": [
    "$\\quad$ We now define a function that takes an MPS as input and transforms it into left canonical form, normalizing it. The output of this function is an equivalent description of the input MPS (apart from the normalization) where all tensors are left normalized. This is achieved using SVD, following the procedure depicted below.\n",
    "\n",
    "<img src=\"LeftCanonical_procedure.svg\" width=800 />\n",
    "\n",
    "<u>Clarifying note</u>: the dashed line is a graphical notation to symbolize that the tensor is normalized with respect to those indices. For example, if a 3-leg tensor $U^{\\alpha,\\sigma,\\beta}$ has a dashed line between legs $\\alpha$ and $\\sigma$, we have\n",
    "$$\n",
    "\\sum_{\\alpha,\\sigma} \\left( U^{\\alpha,\\sigma,\\beta} \\right)^* U^{\\alpha,\\sigma,\\beta'} = \\delta_{\\beta,\\beta'}, \n",
    "$$\n",
    "or, in matrix notation,\n",
    "$$\n",
    "U^\\dagger U = I,\n",
    "$$\n",
    "where the basis $\\{ (\\alpha,\\sigma),\\beta \\}$ is implicit."
   ]
  },
  {
   "cell_type": "code",
   "execution_count": 3,
   "metadata": {
    "tags": []
   },
   "outputs": [],
   "source": [
    "'''\n",
    "    Function that takes an MPS 'M' as input (order of legs: left-bottom-right) and returns a copy of it that is\n",
    "        transformed into left canonical form and normalized.\n",
    "'''\n",
    "def LeftCanonical(M):\n",
    "    Mcopy = M.copy() #create copy of M\n",
    "    \n",
    "    N = len(Mcopy) #nr of sites\n",
    "    \n",
    "    for l in range(N):\n",
    "        # reshape\n",
    "        Taux = Mcopy[l]\n",
    "        Taux = np.reshape(Taux,(np.shape(Taux)[0]*np.shape(Taux)[1],np.shape(Taux)[2]))\n",
    "        \n",
    "        # SVD\n",
    "        U,S,Vdag = np.linalg.svd(Taux,full_matrices=False)\n",
    "        '''\n",
    "            Note: full_matrices=False leads to a trivial truncation of the matrices (thin SVD).\n",
    "        '''\n",
    "        \n",
    "        # update M[l]\n",
    "        Mcopy[l] = np.reshape(U,(np.shape(Mcopy[l])[0],np.shape(Mcopy[l])[1],np.shape(U)[1]))\n",
    "        \n",
    "        # update M[l+1]\n",
    "        SVdag = np.matmul(np.diag(S),Vdag)\n",
    "        if l < N-1:         \n",
    "            Mcopy[l+1] = np.einsum('ij,jkl',SVdag,Mcopy[l+1])\n",
    "        else:\n",
    "            '''\n",
    "                Note: in the last site (l=N-1), S*Vdag is a number that determines the normalization of the MPS. \n",
    "                    We discard this number, which corresponds to normalizing the MPS.\n",
    "            '''\n",
    "            \n",
    "    return Mcopy"
   ]
  },
  {
   "cell_type": "markdown",
   "metadata": {},
   "source": [
    "$\\quad$ Let us now test the use of the previous function. For that matter, we will check if, after applying it, all tensors become left normalized, i.e.,\n",
    "\n",
    "<img src=\"left_normalization.svg\" width=300 />"
   ]
  },
  {
   "cell_type": "code",
   "execution_count": 4,
   "metadata": {
    "tags": []
   },
   "outputs": [
    {
     "name": "stdout",
     "output_type": "stream",
     "text": [
      "l = 0 : max(|M[l]^† · M[l] - I|) = 8.881784197001252e-16\n",
      "l = 1 : max(|M[l]^† · M[l] - I|) = 1.4432899320127035e-15\n",
      "l = 2 : max(|M[l]^† · M[l] - I|) = 1.9984014443252818e-15\n",
      "l = 3 : max(|M[l]^† · M[l] - I|) = 2.220446049250313e-15\n",
      "l = 4 : max(|M[l]^† · M[l] - I|) = 2.1094237467877974e-15\n",
      "l = 5 : max(|M[l]^† · M[l] - I|) = 1.7763568394002505e-15\n",
      "l = 6 : max(|M[l]^† · M[l] - I|) = 1.6653345369377348e-15\n",
      "l = 7 : max(|M[l]^† · M[l] - I|) = 1.9984014443252818e-15\n",
      "l = 8 : max(|M[l]^† · M[l] - I|) = 1.3322676295501878e-15\n",
      "l = 9 : max(|M[l]^† · M[l] - I|) = 3.3306690738754696e-16\n"
     ]
    }
   ],
   "source": [
    "Mleft = LeftCanonical(Mrand)\n",
    "for l in range(N):\n",
    "    Mdag = Mleft[l].conj().T #right-top-left\n",
    "    '''\n",
    "        Note: as a consequence of the conventional leg order chosen for the MPSs, the corresponding hermitian\n",
    "            conjugate versions are ordered as right-top-left.\n",
    "    ''' \n",
    "    MdagM = np.einsum('ijk,kjl',Mdag,Mleft[l]) #bottom-top\n",
    "    I = np.eye(np.shape(Mleft[l])[2]) #(leg order is indiferent)\n",
    "    print('l =', l, ': max(|M[l]^† · M[l] - I|) =', np.max(abs(MdagM-I)))"
   ]
  },
  {
   "cell_type": "markdown",
   "metadata": {},
   "source": [
    "$\\quad$ Analogously, we define and test a function that takes an MPS as input and brings it into right canonical form, normalizing it."
   ]
  },
  {
   "cell_type": "code",
   "execution_count": 5,
   "metadata": {
    "tags": []
   },
   "outputs": [],
   "source": [
    "'''\n",
    "    Function that takes an MPS 'M' as input (order of legs: left-bottom-right) and returns a copy of it that is\n",
    "        transformed into right canonical form and normalized.\n",
    "'''\n",
    "def RightCanonical(M):\n",
    "    Mcopy = M.copy() #create copy of M\n",
    "    \n",
    "    N = len(Mcopy) #nr of sites\n",
    "    \n",
    "    for l in range(N-1,-1,-1):\n",
    "        # reshape\n",
    "        Taux = Mcopy[l]\n",
    "        Taux = np.reshape(Taux,(np.shape(Taux)[0],np.shape(Taux)[1]*np.shape(Taux)[2]))\n",
    "        \n",
    "        # SVD\n",
    "        U,S,Vdag = np.linalg.svd(Taux,full_matrices=False)\n",
    "        \n",
    "        # update M[l]\n",
    "        Mcopy[l] = np.reshape(Vdag,(np.shape(Vdag)[0],np.shape(Mcopy[l])[1],np.shape(Mcopy[l])[2]))\n",
    "        \n",
    "        # update M[l-1]\n",
    "        US = np.matmul(U,np.diag(S))\n",
    "        if l > 0:         \n",
    "            Mcopy[l-1] = np.einsum('ijk,kl',Mcopy[l-1],US)\n",
    "        else:\n",
    "            '''\n",
    "                Note: in the first site (l=0), U*S is a number that determines the normalization of the MPS. We \n",
    "                    discard this number, which corresponds to normalizing the MPS.\n",
    "            '''\n",
    "            \n",
    "    return Mcopy"
   ]
  },
  {
   "cell_type": "code",
   "execution_count": 6,
   "metadata": {
    "tags": []
   },
   "outputs": [
    {
     "name": "stdout",
     "output_type": "stream",
     "text": [
      "l = 0 : max(|M[l] · M[l]^† - I|) = 6.661338147750939e-16\n",
      "l = 1 : max(|M[l] · M[l]^† - I|) = 1.3322676295501878e-15\n",
      "l = 2 : max(|M[l] · M[l]^† - I|) = 1.7763568394002505e-15\n",
      "l = 3 : max(|M[l] · M[l]^† - I|) = 1.5543122344752192e-15\n",
      "l = 4 : max(|M[l] · M[l]^† - I|) = 1.7763568394002505e-15\n",
      "l = 5 : max(|M[l] · M[l]^† - I|) = 2.220446049250313e-15\n",
      "l = 6 : max(|M[l] · M[l]^† - I|) = 1.7763568394002505e-15\n",
      "l = 7 : max(|M[l] · M[l]^† - I|) = 1.9984014443252818e-15\n",
      "l = 8 : max(|M[l] · M[l]^† - I|) = 8.881784197001252e-16\n",
      "l = 9 : max(|M[l] · M[l]^† - I|) = 2.220446049250313e-16\n"
     ]
    }
   ],
   "source": [
    "Mright = RightCanonical(Mrand)\n",
    "for l in range(N):\n",
    "    Mdag = Mright[l].conj().T #right-top-left\n",
    "    MMdag = np.einsum('ijk,kjl',Mright[l],Mdag) #top-bottom\n",
    "    I = np.eye(np.shape(Mright[l])[0]) #(leg order is indiferent)\n",
    "    print('l =', l, ': max(|M[l] · M[l]^† - I|) =', np.max(abs(MMdag-I)))"
   ]
  },
  {
   "cell_type": "markdown",
   "metadata": {},
   "source": [
    "$\\quad$ As a final remark, we note that in tensor network algorithms starting with a random MPS with trivial outer bonds, it is standard practice to apply both 'LeftCanonical' and 'RightCanonical' functions once. This ensures two things: i) that the random MPS is normalized; ii) that some (redundant) bond dimensions (typically closer to the end sites) are trivially truncated due to the thin SVD."
   ]
  },
  {
   "cell_type": "code",
   "execution_count": 7,
   "metadata": {
    "tags": []
   },
   "outputs": [
    {
     "name": "stdout",
     "output_type": "stream",
     "text": [
      "Dimensions of Mrand:\n",
      "l = 0 : (1, 3, 20)\n",
      "l = 1 : (20, 3, 20)\n",
      "l = 2 : (20, 3, 20)\n",
      "l = 3 : (20, 3, 20)\n",
      "l = 4 : (20, 3, 20)\n",
      "l = 5 : (20, 3, 20)\n",
      "l = 6 : (20, 3, 20)\n",
      "l = 7 : (20, 3, 20)\n",
      "l = 8 : (20, 3, 20)\n",
      "l = 9 : (20, 3, 1)\n",
      "\n",
      "After LeftCanonical function:\n",
      "l = 0 : (1, 3, 3)\n",
      "l = 1 : (3, 3, 9)\n",
      "l = 2 : (9, 3, 20)\n",
      "l = 3 : (20, 3, 20)\n",
      "l = 4 : (20, 3, 20)\n",
      "l = 5 : (20, 3, 20)\n",
      "l = 6 : (20, 3, 20)\n",
      "l = 7 : (20, 3, 20)\n",
      "l = 8 : (20, 3, 20)\n",
      "l = 9 : (20, 3, 1)\n",
      "\n",
      "After LeftCanonical and RightCanonical functions:\n",
      "l = 0 : (1, 3, 3)\n",
      "l = 1 : (3, 3, 9)\n",
      "l = 2 : (9, 3, 20)\n",
      "l = 3 : (20, 3, 20)\n",
      "l = 4 : (20, 3, 20)\n",
      "l = 5 : (20, 3, 20)\n",
      "l = 6 : (20, 3, 20)\n",
      "l = 7 : (20, 3, 9)\n",
      "l = 8 : (9, 3, 3)\n",
      "l = 9 : (3, 3, 1)\n"
     ]
    }
   ],
   "source": [
    "print('Dimensions of Mrand:')\n",
    "for l in range(N):\n",
    "    print('l =', l, ':', np.shape(Mrand[l]))\n",
    "\n",
    "Mrand2 = LeftCanonical(Mrand)\n",
    "print(\"\\nAfter LeftCanonical function:\")\n",
    "for l in range(N):\n",
    "    print('l =', l, ':', np.shape(Mrand2[l]))\n",
    "    \n",
    "Mrand3 = RightCanonical(Mrand2)\n",
    "print(\"\\nAfter LeftCanonical and RightCanonical functions:\")\n",
    "for l in range(N):\n",
    "    print('l =', l, ':', np.shape(Mrand3[l]))"
   ]
  },
  {
   "cell_type": "markdown",
   "metadata": {},
   "source": [
    "# MPOs of Hamiltonians\n",
    "\n",
    "$\\quad$ In this section, we show how to build the MPO of a model Hamiltonian, following the strategy explained in the manuscript. For concreteness, we focus on Hamiltonians of 1D quantum spin chains with open boundary conditions. A general representation of such an Hamiltonian MPO is depicted below, where $N$ is the number of sites in the chain and $d$ is the corresponding local dimension ($d=2s+1$ for a spin-$s$ system).\n",
    "\n",
    "<img src=\"MPO_Hamiltonian.svg\" width=600 />\n",
    "\n",
    "For clarity purposes, we consider four different examples, which should illustrate how to do it for a general model.\n",
    "\n",
    "## i) XY model\n",
    "\n",
    "$\\quad$ The Hamiltonian of an XY open-ended chain is given by\n",
    "$$\n",
    "\\hat{\\mathcal{H}}_\\text{XY} = -\\sum_{l=0}^{N-2} \\left( \\hat{\\sigma}^x_l \\hat{\\sigma}^x_{l+1} + \\hat{\\sigma}^y_l \\hat{\\sigma}^y_{l+1} \\right),\n",
    "$$\n",
    "where $N$ is the number of $s=1/2$ spins and $\\hat{\\sigma}^{x/y}_l$ are the $x$/$y$ spin-1/2 operators at site $l$.\n",
    "\n",
    "$\\quad$ Straightforward manipulation gives\n",
    "$$\n",
    "\\hat{\\mathcal{H}}_\\text{XY} = -\\frac{1}{2} \\sum_{l=0}^{N-2} \\left( \\hat{\\sigma}^+_l \\hat{\\sigma}^-_{l+1} + \\hat{\\sigma}^-_l \\hat{\\sigma}^+_{l+1} \\right),\n",
    "$$\n",
    "where $\\hat{\\sigma}^\\pm_l = \\hat{\\sigma}^x_l \\pm \\mathrm{i} \\hat{\\sigma}^y_l$ are the spin ladder operators."
   ]
  },
  {
   "cell_type": "code",
   "execution_count": 8,
   "metadata": {
    "tags": []
   },
   "outputs": [],
   "source": [
    "'''\n",
    "    Function that creates the MPO Hamiltonian (order of legs: left-bottom-right-top) for an XY chain with N \n",
    "        (s=1/2) spins and open boundary conditions.\n",
    "'''\n",
    "def XY_MPO(N):\n",
    "    # spin-1/2 operators\n",
    "    '''\n",
    "        Order of legs: bottom-top.\n",
    "        Note: this is the conventional order used for (rank-2) local operators in the code.\n",
    "    '''\n",
    "    ## σ^+_l\n",
    "    sp = np.zeros((2,2))\n",
    "    sp[0,1] = 1\n",
    "    ## σ^-_l\n",
    "    sm = np.zeros((2,2))\n",
    "    sm[1,0] = 1\n",
    "    ## I_l\n",
    "    I2 = np.eye(2)\n",
    "    \n",
    "    # MPO Hamiltonian\n",
    "    '''\n",
    "        Order of legs: left-bottom-right-top.\n",
    "        Note: this is the conventional order used for MPOs in the code.\n",
    "    '''\n",
    "    ## H[l]\n",
    "    Hl = np.zeros((4,2,4,2))\n",
    "    Hl[0,:,0,:] = I2\n",
    "    Hl[1,:,0,:] = sm\n",
    "    Hl[2,:,0,:] = sp\n",
    "    Hl[3,:,1,:] = -0.5*sp\n",
    "    Hl[3,:,2,:] = -0.5*sm\n",
    "    Hl[3,:,3,:] = I2\n",
    "    ## H\n",
    "    H = [Hl for l in range(N)]\n",
    "    H[0] = Hl[-1:np.shape(Hl)[0],:,:,:]\n",
    "    H[N-1] = Hl[:,:,0:1,:]\n",
    "    \n",
    "    return H"
   ]
  },
  {
   "cell_type": "markdown",
   "metadata": {},
   "source": [
    "$\\quad$ For completeness, let us now show how to contract the Hamiltonian MPO to obtain the Hamiltonian matrix (in the physical basis), which can then be compared to that obtained by brute-force means. It must be noted that this procedure is not desired (and never done) in a tensor network algorithm, as the dimension of the Hamiltonian matrix scales exponentially with $N$, so that it can only be obtained for small $N$ (this remark is actually illustrative of how efficient MPOs are in the task of enconding the information of a model Hamiltonian). Here, we only do it to convince ourselves that the Hamiltonian MPO was properly constructed."
   ]
  },
  {
   "cell_type": "code",
   "execution_count": 9,
   "metadata": {
    "tags": []
   },
   "outputs": [],
   "source": [
    "'''\n",
    "    Function that creates the Hamiltonian matrix for an XY chain with N (s=1/2) spins and open boundary \n",
    "        conditions.\n",
    "'''\n",
    "def Hmat_XY(N):\n",
    "    # spin-1/2 operators\n",
    "    ## σ^+_l\n",
    "    sp = np.zeros((2,2))\n",
    "    sp[0,1] = 1\n",
    "    ## σ^-_l\n",
    "    sm = np.zeros((2,2))\n",
    "    sm[1,0] = 1\n",
    "    ## I_l\n",
    "    I2 = np.eye(2)\n",
    "    \n",
    "    # Hamiltonian matrix\n",
    "    H = np.zeros((2**N,2**N))\n",
    "    for l in range(N-1):\n",
    "        Ileft = np.eye(2**l) #I_0 x I_1 x ... I_{l-1}\n",
    "        Hmid = -0.5*np.kron(sp,sm) #-1/2 * σ^+_l x σ^-_{l+1}\n",
    "        Hmid += -0.5*np.kron(sm,sp) #-1/2 * σ^-_l x σ^+_{l+1}\n",
    "        Iright = np.eye(2**(N-l-2)) #I_{l+2} x I_{l+3} x ... I_{N-1}\n",
    "        H += np.kron(np.kron(Ileft,Hmid),Iright)\n",
    "    \n",
    "    return H"
   ]
  },
  {
   "cell_type": "code",
   "execution_count": 10,
   "metadata": {
    "tags": []
   },
   "outputs": [
    {
     "name": "stdout",
     "output_type": "stream",
     "text": [
      "difference between MPO and brute-force Hamiltonians = 0.0\n"
     ]
    }
   ],
   "source": [
    "# parameters\n",
    "N = 5\n",
    "\n",
    "# Hamiltonian matrix from MPO\n",
    "H_MPO = XY_MPO(N)\n",
    "for l in range(N):\n",
    "    if l==0:\n",
    "        Taux = H_MPO[l][0,:,:,:]\n",
    "    else:\n",
    "        Taux = np.einsum('ijk,jlmn',Taux,H_MPO[l])\n",
    "        Taux = np.transpose(Taux,(0,2,3,1,4))\n",
    "        Taux = np.reshape(Taux,(np.shape(Taux)[0]*np.shape(Taux)[1],np.shape(Taux)[2],\n",
    "                                np.shape(Taux)[3]*np.shape(Taux)[4]))\n",
    "Hmat = Taux[:,0,:]\n",
    "\n",
    "# brute-force Hamiltonian matrix\n",
    "Hmat2 = Hmat_XY(N)\n",
    "\n",
    "# difference\n",
    "print('difference between MPO and brute-force Hamiltonians =', np.max(abs(Hmat-Hmat2)))"
   ]
  },
  {
   "cell_type": "markdown",
   "metadata": {},
   "source": [
    "## ii) Spin-1 Heisenberg model with Zeeman term\n",
    "\n",
    "$\\quad$ The Hamiltonian for an open-ended Heisenberg chain of $N$ $s=1$ spins, with a Zeeman term, is given by\n",
    "$$\n",
    "\\hat{\\mathcal{H}}_\\text{Heis} = J \\sum_{l=0}^{N-2} \\hat{\\vec{S}}_l \\cdot \\hat{\\vec{S}}_{l+1} - h \\sum_{l=0}^{N-1} \\hat{S}^z_l,\n",
    "$$\n",
    "where $J$ and $h$ are model parameters, and $\\hat{\\vec{S}}_l = (\\hat{S}^x_l, \\hat{S}^y_l, \\hat{S}^z_l)$ is the vector of spin-1 operators at site $l$.\n",
    "\n",
    "$\\quad$ Straightforward manipulation leads to\n",
    "$$\n",
    "\\hat{\\mathcal{H}}_\\text{Heis} = J \\sum_{l=0}^{N-2} \\left( \\hat{S}^z_l \\hat{S}^z_{l+1} + \\frac{1}{2} \\hat{S}^+_l \\hat{S}^-_{l+1} + \\frac{1}{2} \\hat{S}^-_l \\hat{S}^+_{l+1} \\right) - h \\sum_{l=0}^{N-1} \\hat{S}^z_l,\n",
    "$$\n",
    "where $\\hat{S}^\\pm_l = \\hat{S}^x_l \\pm \\mathrm{i} \\hat{S}^y_l$ are the spin ladder operators."
   ]
  },
  {
   "cell_type": "code",
   "execution_count": 11,
   "metadata": {
    "tags": []
   },
   "outputs": [],
   "source": [
    "'''\n",
    "    Function that creates the MPO Hamiltonian (order of legs: left-bottom-right-top) for an Heisenberg chain with \n",
    "        N s=1 spins and open boundary conditions. Model parameters: exchange coupling J, Zeeman coupling h.\n",
    "'''\n",
    "def Heis_MPO(N,J,h):\n",
    "    # spin-1 operators (bottom-top)\n",
    "    ## S^z_l\n",
    "    Sz = np.zeros((3,3))\n",
    "    Sz[0,0] = 1\n",
    "    Sz[2,2] = -1\n",
    "    ## S^+_l\n",
    "    Sp = np.zeros((3,3))\n",
    "    Sp[0,1] = np.sqrt(2)\n",
    "    Sp[1,2] = np.sqrt(2)\n",
    "    ## S^-_l\n",
    "    Sm = np.zeros((3,3))\n",
    "    Sm[1,0] = np.sqrt(2)\n",
    "    Sm[2,1] = np.sqrt(2)\n",
    "    ## I_l\n",
    "    I3 = np.eye(3)\n",
    "    \n",
    "    # MPO Hamiltonian (left-bottom-right-top)\n",
    "    ## H[l]\n",
    "    Hl = np.zeros((5,3,5,3))\n",
    "    Hl[0,:,0,:] = I3\n",
    "    Hl[1,:,0,:] = Sz\n",
    "    Hl[2,:,0,:] = Sm\n",
    "    Hl[3,:,0,:] = Sp\n",
    "    Hl[4,:,0,:] = -h*Sz\n",
    "    Hl[4,:,1,:] = J*Sz\n",
    "    Hl[4,:,2,:] = J/2*Sp\n",
    "    Hl[4,:,3,:] = J/2*Sm\n",
    "    Hl[4,:,4,:] = I3\n",
    "    ## H\n",
    "    H = [Hl for l in range(N)]\n",
    "    H[0] = Hl[-1:np.shape(Hl)[0],:,:,:]\n",
    "    H[N-1] = Hl[:,:,0:1,:]\n",
    "    \n",
    "    return H"
   ]
  },
  {
   "cell_type": "markdown",
   "metadata": {},
   "source": [
    "$\\quad$ As a sanity check, we compare again with the brute-force Hamiltonian."
   ]
  },
  {
   "cell_type": "code",
   "execution_count": 12,
   "metadata": {
    "tags": []
   },
   "outputs": [],
   "source": [
    "'''\n",
    "    Function that creates the Hamiltonian matrix for an Heisenberg chain with N s=1 spins and open boundary \n",
    "        conditions. Model parameters: exchange coupling J, Zeeman coupling h.\n",
    "'''\n",
    "def Hmat_Heis(N,J,h):\n",
    "    # spin-1 operators\n",
    "    ## S^z_l\n",
    "    Sz = np.zeros((3,3))\n",
    "    Sz[0,0] = 1\n",
    "    Sz[2,2] = -1\n",
    "    ## S^+_l\n",
    "    Sp = np.zeros((3,3))\n",
    "    Sp[0,1] = np.sqrt(2)\n",
    "    Sp[1,2] = np.sqrt(2)\n",
    "    ## S^-_l\n",
    "    Sm = np.zeros((3,3))\n",
    "    Sm[1,0] = np.sqrt(2)\n",
    "    Sm[2,1] = np.sqrt(2)\n",
    "    ## I_l\n",
    "    I3 = np.eye(3)\n",
    "    \n",
    "    # Hamiltonian matrix\n",
    "    H = np.zeros((3**N,3**N))\n",
    "    for l in range(N-1):\n",
    "        Ileft = np.eye(3**l) #I_0 x I_1 x ... I_{l-1}\n",
    "        Hmid = J*np.kron(Sz,Sz) #J * S^z_l x S^z_{l+1}\n",
    "        Hmid += J/2*np.kron(Sp,Sm) #J/2 * S^+_l x S^-_{l+1}\n",
    "        Hmid += J/2*np.kron(Sm,Sp) #J/2 * S^-_l x S^+_{l+1}\n",
    "        Iright = np.eye(3**(N-l-2)) #I_{l+2} x I_{l+3} x ... I_{N-1}\n",
    "        H += np.kron(np.kron(Ileft,Hmid),Iright)\n",
    "    for l in range(N):\n",
    "        Ileft = np.eye(3**l) #I_0 x I_1 x ... I_{l-1}\n",
    "        Hmid = -h*Sz #-h * S^z_l\n",
    "        Iright = np.eye(3**(N-l-1)) #I_{l+1} x I_{l+2} x ... I_{N-1}\n",
    "        H += np.kron(np.kron(Ileft,Hmid),Iright)\n",
    "    \n",
    "    return H"
   ]
  },
  {
   "cell_type": "code",
   "execution_count": 13,
   "metadata": {
    "tags": []
   },
   "outputs": [
    {
     "name": "stdout",
     "output_type": "stream",
     "text": [
      "difference between MPO and brute-force Hamiltonians = 8.881784197001252e-16\n"
     ]
    }
   ],
   "source": [
    "# parameters\n",
    "N = 5\n",
    "J = np.random.rand()\n",
    "h = np.random.rand()\n",
    "\n",
    "# Hamiltonian matrix from MPO\n",
    "H_MPO = Heis_MPO(N,J,h)\n",
    "for l in range(N):\n",
    "    if l==0:\n",
    "        Taux = H_MPO[l][0,:,:,:]\n",
    "    else:\n",
    "        Taux = np.einsum('ijk,jlmn',Taux,H_MPO[l])\n",
    "        Taux = np.transpose(Taux,(0,2,3,1,4))\n",
    "        Taux = np.reshape(Taux,(np.shape(Taux)[0]*np.shape(Taux)[1],np.shape(Taux)[2],\n",
    "                                np.shape(Taux)[3]*np.shape(Taux)[4]))\n",
    "Hmat = Taux[:,0,:]\n",
    "\n",
    "# brute-force Hamiltonian matrix\n",
    "Hmat2 = Hmat_Heis(N,J,h)\n",
    "\n",
    "# difference\n",
    "print('difference between MPO and brute-force Hamiltonians =', np.max(abs(Hmat-Hmat2)))"
   ]
  },
  {
   "cell_type": "markdown",
   "metadata": {},
   "source": [
    "## iii) Majumdar-Ghosh model\n",
    "\n",
    "$\\quad$ The Majumdar-Ghosh model (https://doi.org/10.1063/1.1664979) describes a chain of $N$ $s=1/2$ spins, governed by the following Hamiltonian (assuming open boundary conditions):\n",
    "$$\n",
    "\\hat{\\mathcal{H}}_\\text{MG} = \\sum_{l=0}^{N-2} \\hat{\\vec{\\sigma}}_l \\cdot \\hat{\\vec{\\sigma}}_{l+1} + \\frac{1}{2} \\sum_{l=0}^{N-3} \\hat{\\vec{\\sigma}}_l \\cdot \\hat{\\vec{\\sigma}}_{l+2},\n",
    "$$\n",
    "where $\\hat{\\vec{\\sigma}}_l = (\\hat{\\sigma}^x_l, \\hat{\\sigma}^y_l, \\hat{\\sigma}^z_l)$ is the vector of spin-1/2 operators at site $l$.\n",
    "\n",
    "$\\quad$ Straightforward manipulation yields\n",
    "$$\n",
    "\\hat{\\mathcal{H}}_\\text{MG} = \\sum_{l=0}^{N-2} \\left( \\hat{\\sigma}^z_l \\hat{\\sigma}^z_{l+1} + \\frac{1}{2} \\hat{\\sigma}^+_l \\hat{\\sigma}^-_{l+1} + \\frac{1}{2} \\hat{\\sigma}^-_l \\hat{\\sigma}^+_{l+1} \\right) + \\sum_{l=0}^{N-3} \\left( \\frac{1}{2} \\hat{\\sigma}^z_l \\hat{\\sigma}^z_{l+2} + \\frac{1}{4} \\hat{\\sigma}^+_l \\hat{\\sigma}^-_{l+2} + \\frac{1}{4} \\hat{\\sigma}^-_l \\hat{\\sigma}^+_{l+2} \\right).\n",
    "$$"
   ]
  },
  {
   "cell_type": "code",
   "execution_count": 14,
   "metadata": {
    "tags": []
   },
   "outputs": [],
   "source": [
    "'''\n",
    "    Function that creates the MPO Hamiltonian (order of legs: left-bottom-right-top) for a Majumdar-Ghosh chain \n",
    "        with N (s=1/2) spins and open boundary conditions.\n",
    "'''\n",
    "def MG_MPO(N):\n",
    "    # spin-1/2 operators (bottom-top)\n",
    "    ## σ^z_l\n",
    "    sz = np.zeros((2,2))\n",
    "    sz[0,0] = 1/2\n",
    "    sz[1,1] = -1/2\n",
    "    ## σ^+_l\n",
    "    sp = np.zeros((2,2))\n",
    "    sp[0,1] = 1\n",
    "    ## σ^-_l\n",
    "    sm = np.zeros((2,2))\n",
    "    sm[1,0] = 1\n",
    "    ## I_l\n",
    "    I2 = np.eye(2)\n",
    "    \n",
    "    # MPO Hamiltonian (left-bottom-right-top)\n",
    "    ## H[l]\n",
    "    Hl = np.zeros((8,2,8,2))\n",
    "    Hl[0,:,0,:] = I2\n",
    "    Hl[1,:,0,:] = sz\n",
    "    Hl[2,:,0,:] = sm\n",
    "    Hl[3,:,0,:] = sp\n",
    "    Hl[4,:,1,:] = I2\n",
    "    Hl[5,:,2,:] = I2\n",
    "    Hl[6,:,3,:] = I2\n",
    "    Hl[7,:,1,:] = sz\n",
    "    Hl[7,:,2,:] = 0.5*sp\n",
    "    Hl[7,:,3,:] = 0.5*sm\n",
    "    Hl[7,:,4,:] = 0.5*sz\n",
    "    Hl[7,:,5,:] = 1/4*sp\n",
    "    Hl[7,:,6,:] = 1/4*sm\n",
    "    Hl[7,:,7,:] = I2\n",
    "    ## H\n",
    "    H = [Hl for l in range(N)]\n",
    "    H[0] = Hl[-1:np.shape(Hl)[0],:,:,:]\n",
    "    H[N-1] = Hl[:,:,0:1,:]\n",
    "    \n",
    "    return H"
   ]
  },
  {
   "cell_type": "markdown",
   "metadata": {},
   "source": [
    "$\\quad$ As a sanity check, we compare again with the brute-force Hamiltonian."
   ]
  },
  {
   "cell_type": "code",
   "execution_count": 15,
   "metadata": {
    "tags": []
   },
   "outputs": [],
   "source": [
    "'''\n",
    "    Function that creates the Hamiltonian matrix for a Majumdar-Ghosh chain with N (s=1/2) spins and open boundary \n",
    "        conditions.\n",
    "'''\n",
    "def Hmat_MG(N):\n",
    "    # spin-1/2 operators\n",
    "    ## σ^z_l\n",
    "    sz = np.zeros((2,2))\n",
    "    sz[0,0] = 1/2\n",
    "    sz[1,1] = -1/2\n",
    "    ## σ^+_l\n",
    "    sp = np.zeros((2,2))\n",
    "    sp[0,1] = 1\n",
    "    ## σ^-_l\n",
    "    sm = np.zeros((2,2))\n",
    "    sm[1,0] = 1\n",
    "    ## I_l\n",
    "    I2 = np.eye(2)\n",
    "    \n",
    "    # Hamiltonian matrix\n",
    "    H = np.zeros((2**N,2**N))\n",
    "    for l in range(N-1):\n",
    "        Ileft = np.eye(2**l) #I_0 x I_1 x ... I_{l-1}\n",
    "        Hmid = np.kron(sz,sz) #σ^z_l x σ^z_{l+1}\n",
    "        Hmid += 0.5*np.kron(sp,sm) #1/2 * σ^+_l x σ^-_{l+1}\n",
    "        Hmid += 0.5*np.kron(sm,sp) #1/2 * σ^-_l x σ^+_{l+1}\n",
    "        Iright = np.eye(2**(N-l-2)) #I_{l+2} x I_{l+3} x ... I_{N-1}\n",
    "        H += np.kron(np.kron(Ileft,Hmid),Iright)\n",
    "    for l in range(N-2):\n",
    "        Ileft = np.eye(2**l) #I_0 x I_1 x ... I_{l-1}\n",
    "        Hmid = 0.5*np.kron(np.kron(sz,I2),sz) #1/2 * σ^z_l x I_{l+1} x σ^z_{l+2}\n",
    "        Hmid += 1/4*np.kron(np.kron(sp,I2),sm) #1/4 * σ^+_l x I_{l+1} x σ^-_{l+2}\n",
    "        Hmid += 1/4*np.kron(np.kron(sm,I2),sp) #1/4 * σ^-_l x I_{l+1} x σ^+_{l+2}\n",
    "        Iright = np.eye(2**(N-l-3)) #I_{l+3} x I_{l+3} x ... I_{N-1}\n",
    "        H += np.kron(np.kron(Ileft,Hmid),Iright)\n",
    "    \n",
    "    return H"
   ]
  },
  {
   "cell_type": "code",
   "execution_count": 16,
   "metadata": {
    "tags": []
   },
   "outputs": [
    {
     "name": "stdout",
     "output_type": "stream",
     "text": [
      "difference between MPO and brute-force Hamiltonians = 0.0\n"
     ]
    }
   ],
   "source": [
    "# parameters\n",
    "N = 5\n",
    "\n",
    "# Hamiltonian matrix from MPO\n",
    "H_MPO = MG_MPO(N)\n",
    "for l in range(N):\n",
    "    if l==0:\n",
    "        Taux = H_MPO[l][0,:,:,:]\n",
    "    else:\n",
    "        Taux = np.einsum('ijk,jlmn',Taux,H_MPO[l])\n",
    "        Taux = np.transpose(Taux,(0,2,3,1,4))\n",
    "        Taux = np.reshape(Taux,(np.shape(Taux)[0]*np.shape(Taux)[1],np.shape(Taux)[2],\n",
    "                                np.shape(Taux)[3]*np.shape(Taux)[4]))\n",
    "Hmat = Taux[:,0,:]\n",
    "\n",
    "# brute-force Hamiltonian matrix\n",
    "Hmat2 = Hmat_MG(N)\n",
    "\n",
    "# difference\n",
    "print('difference between MPO and brute-force Hamiltonians =', np.max(abs(Hmat-Hmat2)))"
   ]
  },
  {
   "cell_type": "markdown",
   "metadata": {},
   "source": [
    "## iv) AKLT model\n",
    " \n",
    "$\\quad$ The AKLT model (https://doi.org/10.1103/PhysRevLett.59.799) describes a chain of $N$ $s=1$ spins, governed by the following Hamiltonian (assuming open boundary conditions):\n",
    "$$\n",
    "\\hat{\\mathcal{H}}_\\text{AKLT} = \\sum_{l=0}^{N-2} \\left[ \\hat{\\vec{S}}_l \\cdot \\hat{\\vec{S}}_{l+1} + \\frac{1}{3} \\left( \\hat{\\vec{S}}_l \\cdot \\hat{\\vec{S}}_{l+1} \\right)^2 \\right].\n",
    "$$\n",
    "\n",
    "$\\quad$ Straightforward manipulation leads to\n",
    "$$\n",
    "\\hat{\\mathcal{H}}_\\text{AKLT} = \\sum_{l=0}^{N-2} \\left[ \\hat{S}^z_l \\hat{S}^z_{l+1} + \\frac{1}{2} \\hat{S}^+_l \\hat{S}^-_{l+1} + \\frac{1}{2} \\hat{S}^-_l \\hat{S}^+_{l+1} + \\frac{1}{3} \\hat{S}^z_l \\hat{S}^z_l \\hat{S}^z_{l+1} \\hat{S}^z_{l+1} + \\frac{1}{6} \\hat{S}^z_l \\hat{S}^+_l \\hat{S}^z_{l+1} \\hat{S}^-_{l+1} + \\frac{1}{6} \\hat{S}^z_l \\hat{S}^-_l \\hat{S}^z_{l+1} \\hat{S}^+_{l+1} + \\frac{1}{6} \\hat{S}^+_l \\hat{S}^z_l \\hat{S}^-_{l+1} \\hat{S}^z_{l+1} + \\frac{1}{12} \\hat{S}^+_l \\hat{S}^+_l \\hat{S}^-_{l+1} \\hat{S}^-_{l+1} + \\frac{1}{12} \\hat{S}^+_l \\hat{S}^-_l \\hat{S}^-_{l+1} \\hat{S}^+_{l+1} + \\frac{1}{6} \\hat{S}^-_l \\hat{S}^z_l \\hat{S}^+_{l+1} \\hat{S}^z_{l+1} + \\frac{1}{12} \\hat{S}^-_l  \\hat{S}^+_l \\hat{S}^+_{l+1} \\hat{S}^-_{l+1} + \\frac{1}{12} \\hat{S}^-_l \\hat{S}^-_l \\hat{S}^+_{l+1} \\hat{S}^+_{l+1} \\right].\n",
    "$$"
   ]
  },
  {
   "cell_type": "code",
   "execution_count": 17,
   "metadata": {
    "tags": []
   },
   "outputs": [],
   "source": [
    "'''\n",
    "    Function that creates the MPO Hamiltonian (order of legs: left-bottom-right-top) for an AKLT chain with N \n",
    "        (s=1) spins and open boundary conditions.\n",
    "'''\n",
    "def AKLT_MPO(N):\n",
    "    # spin-1 operators (bottom-top)\n",
    "    ## S^z_l\n",
    "    Sz = np.zeros((3,3))\n",
    "    Sz[0,0] = 1\n",
    "    Sz[2,2] = -1\n",
    "    ## S^+_l\n",
    "    Sp = np.zeros((3,3))\n",
    "    Sp[0,1] = np.sqrt(2)\n",
    "    Sp[1,2] = np.sqrt(2)\n",
    "    ## S^-_l\n",
    "    Sm = np.zeros((3,3))\n",
    "    Sm[1,0] = np.sqrt(2)\n",
    "    Sm[2,1] = np.sqrt(2)\n",
    "    ## I_l\n",
    "    I3 = np.eye(3)\n",
    "    \n",
    "    # MPO Hamiltonian (left-bottom-right-top)\n",
    "    ## H[l]\n",
    "    Hl = np.zeros((14,3,14,3))\n",
    "    Hl[0,:,0,:] = I3\n",
    "    Hl[1,:,0,:] = Sz\n",
    "    Hl[2,:,0,:] = Sm\n",
    "    Hl[3,:,0,:] = Sp\n",
    "    Hl[4,:,0,:] = np.matmul(Sz,Sz)\n",
    "    Hl[5,:,0,:] = np.matmul(Sz,Sm)\n",
    "    Hl[6,:,0,:] = np.matmul(Sz,Sp)\n",
    "    Hl[7,:,0,:] = np.matmul(Sm,Sz)\n",
    "    Hl[8,:,0,:] = np.matmul(Sm,Sm)\n",
    "    Hl[9,:,0,:] = np.matmul(Sm,Sp)\n",
    "    Hl[10,:,0,:] = np.matmul(Sp,Sz)\n",
    "    Hl[11,:,0,:] = np.matmul(Sp,Sm)\n",
    "    Hl[12,:,0,:] = np.matmul(Sp,Sp)\n",
    "    Hl[13,:,1,:] = Sz\n",
    "    Hl[13,:,2,:] = 0.5*Sp\n",
    "    Hl[13,:,3,:] = 0.5*Sm\n",
    "    Hl[13,:,4,:] = 1/3*np.matmul(Sz,Sz)\n",
    "    Hl[13,:,5,:] = 1/6*np.matmul(Sz,Sp)\n",
    "    Hl[13,:,6,:] = 1/6*np.matmul(Sz,Sm)\n",
    "    Hl[13,:,7,:] = 1/6*np.matmul(Sp,Sz)\n",
    "    Hl[13,:,8,:] = 1/12*np.matmul(Sp,Sp)\n",
    "    Hl[13,:,9,:] = 1/12*np.matmul(Sp,Sm)\n",
    "    Hl[13,:,10,:] = 1/6*np.matmul(Sm,Sz)\n",
    "    Hl[13,:,11,:] = 1/12*np.matmul(Sm,Sp)\n",
    "    Hl[13,:,12,:] = 1/12*np.matmul(Sm,Sm)\n",
    "    Hl[13,:,13,:] = I3\n",
    "    ## H\n",
    "    H = [Hl for l in range(N)]\n",
    "    H[0] = Hl[-1:np.shape(Hl)[0],:,:,:]\n",
    "    H[N-1] = Hl[:,:,0:1,:]\n",
    "    \n",
    "    return H"
   ]
  },
  {
   "cell_type": "markdown",
   "metadata": {},
   "source": [
    "$\\quad$ As a sanity check, we compare again with the brute-force Hamiltonian."
   ]
  },
  {
   "cell_type": "code",
   "execution_count": 18,
   "metadata": {
    "tags": []
   },
   "outputs": [],
   "source": [
    "'''\n",
    "    Function that creates the Hamiltonian matrix for an AKLT chain with N (s=1) spins and open boundary \n",
    "        conditions.\n",
    "'''\n",
    "def Hmat_AKLT(N):\n",
    "    # spin-1 operators\n",
    "    ## S^z_l\n",
    "    Sz = np.zeros((3,3))\n",
    "    Sz[0,0] = 1\n",
    "    Sz[2,2] = -1\n",
    "    ## S^+_l\n",
    "    Sp = np.zeros((3,3))\n",
    "    Sp[0,1] = np.sqrt(2)\n",
    "    Sp[1,2] = np.sqrt(2)\n",
    "    ## S^-_l\n",
    "    Sm = np.zeros((3,3))\n",
    "    Sm[1,0] = np.sqrt(2)\n",
    "    Sm[2,1] = np.sqrt(2)\n",
    "    ## I_l\n",
    "    I3 = np.eye(3)\n",
    "    \n",
    "    # Hamiltonian matrix\n",
    "    H = np.zeros((3**N,3**N))\n",
    "    for l in range(N-1):\n",
    "        Ileft = np.eye(3**l) #I_0 x I_1 x ... I_{l-1}\n",
    "        Hmid = np.kron(Sz,Sz) #S^z_l x S^z_{l+1}\n",
    "        Hmid += 0.5*np.kron(Sp,Sm) #1/2 * S^+_l x S^-_{l+1}\n",
    "        Hmid += 0.5*np.kron(Sm,Sp) #1/2 * S^-_l x S^+_{l+1}\n",
    "        Hmid += 1/3*np.kron(np.matmul(Sz,Sz),np.matmul(Sz,Sz)) #1/3 * (S^z_l * S^z_l) x (S^z_{l+1} * S^z_{l+1})\n",
    "        Hmid += 1/6*np.kron(np.matmul(Sz,Sp),np.matmul(Sz,Sm)) #1/6 * (S^z_l * S^+_l) x (S^z_{l+1} * S^-_{l+1})\n",
    "        Hmid += 1/6*np.kron(np.matmul(Sz,Sm),np.matmul(Sz,Sp)) #1/6 * (S^z_l * S^-_l) x (S^z_{l+1} * S^+_{l+1})\n",
    "        Hmid += 1/6*np.kron(np.matmul(Sp,Sz),np.matmul(Sm,Sz)) #1/6 * (S^+_l * S^z_l) x (S^-_{l+1} * S^z_{l+1})\n",
    "        Hmid += 1/12*np.kron(np.matmul(Sp,Sp),np.matmul(Sm,Sm)) #1/12 * (S^+_l * S^+_l) x (S^-_{l+1} * S^-_{l+1})\n",
    "        Hmid += 1/12*np.kron(np.matmul(Sp,Sm),np.matmul(Sm,Sp)) #1/12 * (S^+_l * S^-_l) x (S^-_{l+1} * S^+_{l+1})\n",
    "        Hmid += 1/6*np.kron(np.matmul(Sm,Sz),np.matmul(Sp,Sz)) #1/6 * (S^-_l * S^z_l) x (S^+_{l+1} * S^z_{l+1})\n",
    "        Hmid += 1/12*np.kron(np.matmul(Sm,Sp),np.matmul(Sp,Sm)) #1/12 * (S^-_l * S^+_l) x (S^+_{l+1} * S^-_{l+1})\n",
    "        Hmid += 1/12*np.kron(np.matmul(Sm,Sm),np.matmul(Sp,Sp)) #1/12 * (S^-_l * S^-_l) x (S^+_{l+1} * S^+_{l+1})\n",
    "        Iright = np.eye(3**(N-l-2)) #I_{l+2} x I_{l+3} x ... I_{N-1}\n",
    "        H += np.kron(np.kron(Ileft,Hmid),Iright)\n",
    "    \n",
    "    return H"
   ]
  },
  {
   "cell_type": "code",
   "execution_count": 19,
   "metadata": {
    "tags": []
   },
   "outputs": [
    {
     "name": "stdout",
     "output_type": "stream",
     "text": [
      "difference between MPO and brute-force Hamiltonians = 8.881784197001252e-16\n"
     ]
    }
   ],
   "source": [
    "# parameters\n",
    "N = 5\n",
    "\n",
    "# Hamiltonian matrix from MPO\n",
    "H_MPO = AKLT_MPO(N)\n",
    "for l in range(N):\n",
    "    if l==0:\n",
    "        Taux = H_MPO[l][0,:,:,:]\n",
    "    else:\n",
    "        Taux = np.einsum('ijk,jlmn',Taux,H_MPO[l])\n",
    "        Taux = np.transpose(Taux,(0,2,3,1,4))\n",
    "        Taux = np.reshape(Taux,(np.shape(Taux)[0]*np.shape(Taux)[1],np.shape(Taux)[2],\n",
    "                                np.shape(Taux)[3]*np.shape(Taux)[4]))\n",
    "Hmat = Taux[:,0,:]\n",
    "\n",
    "# brute-force Hamiltonian matrix\n",
    "Hmat2 = Hmat_AKLT(N)\n",
    "\n",
    "# difference\n",
    "print('difference between MPO and brute-force Hamiltonians =', np.max(abs(Hmat-Hmat2)))"
   ]
  },
  {
   "cell_type": "markdown",
   "metadata": {},
   "source": [
    "# Closing the zipper\n",
    "\n",
    "$\\quad$ As discussed in the manuscript, there is an optimal way to make the tensor contractions involved in the calculation of expectation values of operators (described by an MPO) for a given wave function (described by an MPS). This is referred to as \"closing the zipper\". Here, we define a general function that makes the contractions depicted below, which can be used to \"close the zipper from the left\" within a few lines of code, as we will show later.\n",
    "\n",
    "<img src=\"ZipperLeft.svg\" width=300 />"
   ]
  },
  {
   "cell_type": "code",
   "execution_count": 20,
   "metadata": {
    "tags": []
   },
   "outputs": [],
   "source": [
    "'''\n",
    "    Function that makes the following contractions (numbers denote leg order):\n",
    "    \n",
    "         /--3--**--1--Mt--3--\n",
    "         |             |\n",
    "         |             2\n",
    "         |             |\n",
    "         |             *\n",
    "         |             *\n",
    "         |             |\n",
    "         |             4                 /--3-- \n",
    "         |             |                 |\n",
    "        Tl--2--**--1---O--3--     =     Tf--2--\n",
    "         |             |                 |\n",
    "         |             2                 \\--1--\n",
    "         |             |\n",
    "         |             *\n",
    "         |             *\n",
    "         |             |\n",
    "         |             2 \n",
    "         |             |\n",
    "         \\--1--**--3--Mb--1-- \n",
    "'''\n",
    "def ZipperLeft(Tl,Mb,O,Mt):\n",
    "    Taux = np.einsum('ijk,klm',Mb,Tl)\n",
    "    Taux = np.einsum('ijkl,kjmn',Taux,O)\n",
    "    Tf = np.einsum('ijkl,jlm',Taux,Mt)\n",
    "    \n",
    "    return Tf"
   ]
  },
  {
   "cell_type": "markdown",
   "metadata": {},
   "source": [
    "$\\quad$ Let us now show how to make use of the previous function. For that matter, we consider one of the four ground state solutions of an open-ended AKLT chain with $N$ $s=1$ spins, which can be written as a (non-normalized) MPS where every local tensor $M^{\\alpha,\\sigma,\\beta}_{[l]}$ is given by (https://doi.org/10.1016/j.aop.2010.09.012)\n",
    "$$\n",
    "M^{\\alpha,+1,\\beta}_{[l]} = \\sqrt{\\frac{2}{3}}\n",
    "\\begin{pmatrix}\n",
    "0 & 1\\\\\n",
    "0 & 0\n",
    "\\end{pmatrix}, \\quad \n",
    "M^{\\alpha,0,\\beta}_{[l]} = \\frac{1}{\\sqrt{3}}\n",
    "\\begin{pmatrix}\n",
    "-1 & 0\\\\\n",
    "0 & 1\n",
    "\\end{pmatrix}, \\quad \n",
    "M^{\\alpha,-1,\\beta}_{[l]} = \\sqrt{\\frac{2}{3}}\n",
    "\\begin{pmatrix}\n",
    "0 & 0\\\\\n",
    "-1 & 0\n",
    "\\end{pmatrix},\n",
    "$$\n",
    "except for the terminal sites $l=0$ and $l=N-1$, where the local tensors read as (e.g.)\n",
    "$$\n",
    "M^{\\alpha,+1,\\beta}_{[0]} = \\sqrt{\\frac{2}{3}}\n",
    "\\begin{pmatrix}\n",
    "0 & 1\n",
    "\\end{pmatrix}, \\quad \n",
    "M^{\\alpha,0,\\beta}_{[0]} = \\frac{1}{\\sqrt{3}}\n",
    "\\begin{pmatrix}\n",
    "-1 & 0\n",
    "\\end{pmatrix}, \\quad \n",
    "M^{\\alpha,-1,\\beta}_{[0]} =\n",
    "\\begin{pmatrix}\n",
    "0 & 0\n",
    "\\end{pmatrix}\n",
    "$$\n",
    "and\n",
    "$$\n",
    "M^{\\alpha,+1,\\beta}_{[N-1]} =\n",
    "\\begin{pmatrix}\n",
    "0 \\\\\n",
    "0\n",
    "\\end{pmatrix}, \\quad \n",
    "M^{\\alpha,0,\\beta}_{[N-1]} = \\frac{1}{\\sqrt{3}}\n",
    "\\begin{pmatrix}\n",
    "-1\\\\\n",
    "0\n",
    "\\end{pmatrix}, \\quad \n",
    "M^{\\alpha,-1,\\beta}_{[N-1]} = \\sqrt{\\frac{2}{3}}\n",
    "\\begin{pmatrix}\n",
    "0\\\\\n",
    "-1\n",
    "\\end{pmatrix}.\n",
    "$$"
   ]
  },
  {
   "cell_type": "code",
   "execution_count": 21,
   "metadata": {
    "tags": []
   },
   "outputs": [],
   "source": [
    "# parameters\n",
    "N = 100\n",
    "\n",
    "# AKLT MPS ground state (left-bottom-right)\n",
    "## M[l]\n",
    "Ml_AKLT = np.zeros((2,3,2))\n",
    "Ml_AKLT[0,0,1] = np.sqrt(2/3)\n",
    "Ml_AKLT[0,1,0] = -1/np.sqrt(3)\n",
    "Ml_AKLT[1,1,1] = 1/np.sqrt(3)\n",
    "Ml_AKLT[1,2,0] = -np.sqrt(2/3)\n",
    "## M\n",
    "M_AKLT = []\n",
    "M_AKLT.append(Ml_AKLT[0:1,:,:])\n",
    "for l in range(1,N-1):\n",
    "    M_AKLT.append(Ml_AKLT)\n",
    "M_AKLT.append(Ml_AKLT[:,:,0:1])\n",
    "## normalized M\n",
    "M_AKLT = LeftCanonical(M_AKLT)\n",
    "M_AKLT = RightCanonical(M_AKLT)\n",
    "\n",
    "# MPO of AKLT Hamiltonian (left-bottom-right-top)\n",
    "H_AKLT = AKLT_MPO(N)"
   ]
  },
  {
   "cell_type": "markdown",
   "metadata": {},
   "source": [
    "$\\quad$ Using this MPS description of one of the ground states, together with the MPO description of the corresponding Hamiltonian, we can compute the ground state energy (closing the zipper from the left) and compare with the analytical result, $-\\frac{2}{3} (N-1)$ (https://doi.org/10.1103/PhysRevLett.59.799). "
   ]
  },
  {
   "cell_type": "code",
   "execution_count": 22,
   "metadata": {
    "tags": []
   },
   "outputs": [
    {
     "name": "stdout",
     "output_type": "stream",
     "text": [
      "<GS| H |GS> =  -66.0\n",
      "analytical result =  -66.0\n"
     ]
    }
   ],
   "source": [
    "# <GS| H |GS> for AKLT model, closing the zipper from the left\n",
    "Taux = np.ones((1,1,1))\n",
    "for l in range(N):\n",
    "    Taux = ZipperLeft(Taux,M_AKLT[l].conj().T,H_AKLT[l],M_AKLT[l])\n",
    "print('<GS| H |GS> = ', Taux[0,0,0])\n",
    "print('analytical result = ', -2*(N-1)/3)"
   ]
  },
  {
   "cell_type": "markdown",
   "metadata": {},
   "source": [
    "$\\quad$ Analogously, we define another general function and demonstrate how it can be used to close the zipper from the right."
   ]
  },
  {
   "cell_type": "code",
   "execution_count": 23,
   "metadata": {
    "tags": []
   },
   "outputs": [],
   "source": [
    "'''\n",
    "    Function that makes the following contractions (numbers denote leg order):\n",
    "    \n",
    "         --1--Mt--3--**--1--\\\n",
    "               |            |\n",
    "               2            | \n",
    "               |            |  \n",
    "               *            |\n",
    "               *            |\n",
    "               |            |\n",
    "               4            |            --1--\\ \n",
    "               |            |                 |\n",
    "         --1---O--3--**--2--Tr     =     --2--Tf\n",
    "               |            |                 |\n",
    "               2            |            --3--/\n",
    "               |            |\n",
    "               *            |\n",
    "               *            |\n",
    "               |            |\n",
    "               2            | \n",
    "               |            |\n",
    "         --3--Mb--1--**--3--/\n",
    "'''\n",
    "def ZipperRight(Tr,Mb,O,Mt):\n",
    "    Taux = np.einsum('ijk,klm',Mt,Tr)\n",
    "    Taux = np.einsum('ijkl,mnkj',Taux,O)\n",
    "    Tf = np.einsum('ijkl,jlm',Taux,Mb)\n",
    "    \n",
    "    return Tf"
   ]
  },
  {
   "cell_type": "code",
   "execution_count": 24,
   "metadata": {
    "tags": []
   },
   "outputs": [
    {
     "name": "stdout",
     "output_type": "stream",
     "text": [
      "<GS| H |GS> =  -65.9999999999998\n",
      "analytical result =  -66.0\n"
     ]
    }
   ],
   "source": [
    "# <GS| H |GS> for AKLT model, closing the zipper from the right\n",
    "Taux = np.ones((1,1,1))\n",
    "for l in range(N-1,-1,-1):\n",
    "    Taux = ZipperRight(Taux,M_AKLT[l].conj().T,H_AKLT[l],M_AKLT[l])\n",
    "print('<GS| H |GS> = ', Taux[0,0,0])\n",
    "print('analytical result = ', -2*(N-1)/3)"
   ]
  },
  {
   "cell_type": "markdown",
   "metadata": {},
   "source": [
    "# Finite-system DMRG: one-site update, ground state search, open boundary conditions\n",
    "\n",
    "$\\quad$ Finally, we show how to implement the one-site update version of the finite-system DMRG algorithm, using the tensor network formalism. For simplicity, we define a function that only targets the ground state properties. Moreover, we note that, even though the coded routine is model-agnostic, it requires to provide as input an Hamiltonian MPO $H$ with trivial leftmost and rightmost legs, which is generally related to the presence of open boundary conditions in at least one of the physical dimensions of the system.\n",
    "\n",
    "$\\quad$ As explained in the manuscript, the main step of the algorithm can be phrased in the following manner. Given an MPS $M$ in site canonical form, the local tensor of the corresponding site $l$ can be variationally optimized by looking for the eigenvector with lowest eigenvalue (= current estimate of the ground state energy) of the matrix defined below.\n",
    "\n",
    "<img src=\"fDMRG_procedure.svg\" width=900 />\n",
    "\n",
    "The previous step is carried out in a sequential manner for each site, updating the local tensors at every step. A complete sweep consists in optimizing the local tensors from site $l=0$ to site $l=N-1$ (right sweep) and vice-versa (left sweep)."
   ]
  },
  {
   "cell_type": "code",
   "execution_count": 25,
   "metadata": {
    "tags": []
   },
   "outputs": [],
   "source": [
    "'''\n",
    "    Function that implements finite-system DMRG (one-site update version) to obtain the ground state of an input \n",
    "        Hamiltonian MPO (order of legs: left-bottom-right-top), 'H', that represents a system with open boundary \n",
    "        conditions.\n",
    "        \n",
    "    Notes:\n",
    "        - the outputs are the ground state energy at every step of the algorithm, 'E_list', and the ground state \n",
    "            MPS (order of legs: left-bottom-right) at the final step, 'M'.\n",
    "        - the maximum bond dimension allowed for the ground state MPS is an input, 'D'.\n",
    "        - the number of sweeps is an input, 'Nsweeps'.\n",
    "'''\n",
    "def fDMRG_1site_GS_OBC(H,D,Nsweeps):\n",
    "    N = len(H) #nr of sites\n",
    "    \n",
    "    # random MPS (left-bottom-right)\n",
    "    M = []\n",
    "    M.append(np.random.rand(1,np.shape(H[0])[3],D))\n",
    "    for l in range(1,N-1):\n",
    "        M.append(np.random.rand(D,np.shape(H[l])[3],D))\n",
    "    M.append(np.random.rand(D,np.shape(H[N-1])[3],1))\n",
    "    ## normalized MPS in right canonical form\n",
    "    M = LeftCanonical(M)\n",
    "    M = RightCanonical(M)\n",
    "    \n",
    "    # Hzip\n",
    "    '''\n",
    "        Every step of the finite-system DMRG consists in optimizing a local tensor M[l] of an MPS in site \n",
    "            canonical form. The value of l is sweeped back and forth between 0 and N-1.\n",
    "            \n",
    "        For a given l, we define Hzip as a list with N+2 elements where:\n",
    "\n",
    "            - Hzip[0] = Hzip[N+1] = np.ones((1,1,1))\n",
    "\n",
    "            - Hzip[it] =\n",
    "\n",
    "                /--------------M[it-1]--3--\n",
    "                |             \\|\n",
    "                |              |          \n",
    "                |              |               \n",
    "                Hzip[it-1]-----H[it-1]--2--          for it = 1, 2, ..., l\n",
    "                |              |\n",
    "                |              |\n",
    "                |             /|\n",
    "                \\--------------M[it-1]^†--1--\n",
    "\n",
    "            - Hzip[it] =\n",
    "\n",
    "                --1--M[it-1]-----\\\n",
    "                     |/          |\n",
    "                     |           |           \n",
    "                     |           |             \n",
    "                --2--H[it-1]-----Hzip[it+1]          for it = l+1, l+2, ..., N     \n",
    "                     |           |                 \n",
    "                     |           |\n",
    "                     |\\          |\n",
    "                --3--M[it-1]^†---/\n",
    "              \n",
    "        Here, we initialize Hzip considering l=0 (note that this is consistent with starting with a random MPS in\n",
    "            right canonical form). Consistently, we will start the DMRG routine with a right sweep.\n",
    "    '''\n",
    "    Hzip = [np.ones((1,1,1)) for it in range(N+2)]\n",
    "    for l in range(N-1,-1,-1):\n",
    "        Hzip[l+1] = ZipperRight(Hzip[l+2],M[l].conj().T,H[l],M[l])\n",
    "    \n",
    "    # DMRG routine\n",
    "    E_list = []\n",
    "    for itsweeps in range(Nsweeps):\n",
    "        ## right sweep\n",
    "        for l in range(N):\n",
    "            ### H matrix\n",
    "            Taux = np.einsum('ijk,jlmn',Hzip[l],H[l])\n",
    "            Taux = np.einsum('ijklm,nlo',Taux,Hzip[l+2])\n",
    "            Taux = np.transpose(Taux,(0,2,5,1,3,4))\n",
    "            Hmat = np.reshape(Taux,(np.shape(Taux)[0]*np.shape(Taux)[1]*np.shape(Taux)[2],\n",
    "                                    np.shape(Taux)[3]*np.shape(Taux)[4]*np.shape(Taux)[5]))\n",
    "            \n",
    "            ### Lanczos diagonalization of H matrix (lowest energy eigenvalue)\n",
    "            val,vec = eigsh(Hmat, k=1, which='SA', v0=M[l])\n",
    "            E_list.append(val[0])\n",
    "            \n",
    "            ### update M[l]\n",
    "            '''\n",
    "                Note: in the right sweep, the local tensor M[l] obtained from Lanczos has to be left normalized. \n",
    "                    This is achieved by SVD. The remaining S*Vdag is contracted with M[l+1].\n",
    "            '''\n",
    "            Taux2 = np.reshape(vec,(np.shape(Taux)[0]*np.shape(Taux)[1],np.shape(Taux)[2]))\n",
    "            U,S,Vdag = np.linalg.svd(Taux2,full_matrices=False)\n",
    "            M[l] = np.reshape(U,(np.shape(Taux)[0],np.shape(Taux)[1],np.shape(U)[1]))\n",
    "            if l < N-1:\n",
    "                M[l+1] = np.einsum('ij,jkl',S*Vdag,M[l+1])\n",
    "                \n",
    "            ### update Hzip\n",
    "            Hzip[l+1] = ZipperLeft(Hzip[l],M[l].conj().T,H[l],M[l])\n",
    "            \n",
    "        ## left sweep\n",
    "        for l in range(N-1,-1,-1):\n",
    "            ### H matrix\n",
    "            Taux = np.einsum('ijk,jlmn',Hzip[l],H[l])\n",
    "            Taux = np.einsum('ijklm,nlo',Taux,Hzip[l+2])\n",
    "            Taux = np.transpose(Taux,(0,2,5,1,3,4))\n",
    "            Hmat = np.reshape(Taux,(np.shape(Taux)[0]*np.shape(Taux)[1]*np.shape(Taux)[2],\n",
    "                                   np.shape(Taux)[3]*np.shape(Taux)[4]*np.shape(Taux)[5]))\n",
    "            \n",
    "            ### Lanczos diagonalization of H matrix (lowest energy eigenvalue)\n",
    "            val,vec = eigsh(Hmat, k=1, which='SA', v0=M[l])\n",
    "            E_list.append(val[0])\n",
    "            \n",
    "            ### update M[l]\n",
    "            '''\n",
    "                Note: in the left sweep, the local tensor M[l] obtained from Lanczos has to be right normalized. \n",
    "                    This is achieved by SVD. The remaining U*S is contracted with M[l-1].\n",
    "            '''\n",
    "            Taux2 = np.reshape(vec,(np.shape(Taux)[0],np.shape(Taux)[1]*np.shape(Taux)[2]))\n",
    "            U,S,Vdag = np.linalg.svd(Taux2,full_matrices=False)\n",
    "            M[l] = np.reshape(Vdag,(np.shape(Vdag)[0],np.shape(Taux)[1],np.shape(Taux)[2]))\n",
    "            if l > 0:\n",
    "                M[l-1] = np.einsum('ijk,kl',M[l-1],U*S)\n",
    "                \n",
    "            ### update Hzip\n",
    "            Hzip[l+1] = ZipperRight(Hzip[l+2],M[l].conj().T,H[l],M[l])\n",
    "        \n",
    "    return E_list,M"
   ]
  },
  {
   "cell_type": "markdown",
   "metadata": {},
   "source": [
    "$\\quad$ Let us now test the use of the previous function for an even-$N$ XY chain, for which analytical solutions are known (https://etd.adm.unipi.it/t/etd-01312012-102006). In particular, we compute the ground state energy and compare with the exact result,\n",
    "$$\n",
    "E = \\frac{1}{2} - \\frac{1}{2 \\sin \\left( \\frac{\\pi}{2N+2} \\right)},\n",
    "$$\n",
    "as well as the ground state nearest neighbor spin correlator, whose analytical expression reads as\n",
    "$$\n",
    "< \\hat{\\sigma}^+_l \\hat{\\sigma}^-_{l+1} > = -\\frac{1}{2N+2} \\left[ \\frac{(-1)^{l+1}}{\\sin \\left( \\pi \\frac{2l+3}{2N+2} \\right) } - \\frac{1}{\\sin \\left( \\frac{\\pi}{2N+2} \\right)} \\right].\n",
    "$$"
   ]
  },
  {
   "cell_type": "code",
   "execution_count": 26,
   "metadata": {
    "tags": []
   },
   "outputs": [],
   "source": [
    "# parameters\n",
    "N = 20\n",
    "D = 10 #bond dimension for DMRG\n",
    "Nsweeps = 3 #nr of sweeps\n",
    "\n",
    "# Hamiltonian MPO\n",
    "H = XY_MPO(N)\n",
    "\n",
    "# DMRG\n",
    "E_list,M = fDMRG_1site_GS_OBC(H,D,Nsweeps)"
   ]
  },
  {
   "cell_type": "code",
   "execution_count": 27,
   "metadata": {
    "tags": []
   },
   "outputs": [
    {
     "name": "stdout",
     "output_type": "stream",
     "text": [
      "ground state energy = -6.190423638177978\n",
      "analytical result = -6.190744999827377\n"
     ]
    }
   ],
   "source": [
    "# ground state energy\n",
    "print('ground state energy =', E_list[-1])\n",
    "print('analytical result =', 0.5 - 0.5/np.sin(np.pi/(2*N+2)))"
   ]
  },
  {
   "cell_type": "code",
   "execution_count": 28,
   "metadata": {
    "tags": []
   },
   "outputs": [],
   "source": [
    "# spin-1/2 operators (bottom-top)\n",
    "## σ^+_l\n",
    "sp = np.zeros((2,2))\n",
    "sp[0,1] = 1\n",
    "## σ^-_l\n",
    "sm = np.zeros((2,2))\n",
    "sm[1,0] = 1\n",
    "## I_l\n",
    "I2 = np.eye(2)\n",
    "\n",
    "# MPO for local spin-1/2 operators (left-bottom-right-top)\n",
    "## σ^+_l\n",
    "sp_MPO = np.zeros((1,2,1,2))\n",
    "sp_MPO[0,:,0,:] = sp\n",
    "## σ^-_l\n",
    "sm_MPO = np.zeros((1,2,1,2))\n",
    "sm_MPO[0,:,0,:] = sm\n",
    "## I_l\n",
    "I2_MPO = np.zeros((1,2,1,2))\n",
    "I2_MPO[0,:,0,:] = I2\n",
    "\n",
    "# ground state nearest neighbor spin correlator\n",
    "spincorr = []\n",
    "for it in range(N-1):\n",
    "    Taux = np.ones((1,1,1))\n",
    "    for l in range(N):\n",
    "        if l==it:\n",
    "            Taux = ZipperLeft(Taux,M[l].conj().T,sp_MPO,M[l])\n",
    "        elif l==it+1:\n",
    "            Taux = ZipperLeft(Taux,M[l].conj().T,sm_MPO,M[l])\n",
    "        else:\n",
    "            Taux = ZipperLeft(Taux,M[l].conj().T,I2_MPO,M[l])\n",
    "    spincorr.append(Taux[0,0,0])"
   ]
  },
  {
   "cell_type": "code",
   "execution_count": 29,
   "metadata": {
    "tags": []
   },
   "outputs": [
    {
     "data": {
      "image/png": "[encoded data removed]",
      "text/plain": [
       "<Figure size 640x480 with 1 Axes>"
      ]
     },
     "metadata": {},
     "output_type": "display_data"
    }
   ],
   "source": [
    "# plot\n",
    "plt.xlabel('$l$')\n",
    "plt.ylabel('Ground state nearest neighbor spin correlator\\n$< \\hat{\\sigma}^+_l \\hat{\\sigma}^-_{l+1} >$')\n",
    "plt.plot([-1/(2*N+2)*( (-1)**(l+1)/np.sin(np.pi*(2*l+3)/(2*N+2)) - 1/np.sin(np.pi/(2*N+2)) ) for l in range(N-1)],\n",
    "        color=\"gray\",markersize=10,marker=\"o\",label=\"analytical\",linewidth=3)\n",
    "plt.plot(spincorr,markersize=5,marker=\"s\",linestyle=\"dotted\",linewidth=3,label=\"DMRG\",color=\"blue\")\n",
    "plt.legend()\n",
    "plt.show()"
   ]
  },
  {
   "cell_type": "markdown",
   "metadata": {},
   "source": [
    "$\\quad$ We observe that a good agreement is obtained with 3 sweeps and $D=10$. Below, we show representative results, obtained with this code, which demonstrate how the accuracy of the ground state energy calculation depends on both the number of sweeps and $D$.\n",
    "\n",
    "<img src=\"fDMRG_XY_Egs.svg\" width=500 />"
   ]
  }
 ],
 "metadata": {
  "kernelspec": {
   "display_name": "Python 3 (ipykernel)",
   "language": "python",
   "name": "python3"
  },
  "language_info": {
   "codemirror_mode": {
    "name": "ipython",
    "version": 3
   },
   "file_extension": ".py",
   "mimetype": "text/x-python",
   "name": "python",
   "nbconvert_exporter": "python",
   "pygments_lexer": "ipython3",
   "version": "3.10.10"
  }
 },
 "nbformat": 4,
 "nbformat_minor": 4
}
